{
 "cells": [
  {
   "cell_type": "markdown",
   "id": "5253b9bf-6e6b-421e-836d-1e066023b3b6",
   "metadata": {},
   "source": [
    "<img src=\"./figures/Logo_KIT.svg\" width=\"250\" height=\"250\" style=\"zoom:15%;float:right;\" />\n",
    "\n",
    "# Fakultät für Physik\n",
    "\n",
    "## Physikalisches Praktikum P2 für Studierende der Physik\n",
    "\n",
    "Versuch P2-50, 51, 52 (Stand: April 2023)\n",
    "\n",
    "[Raum F1-17](http://www-ekp.physik.uni-karlsruhe.de/~simonis/praktikum/layoutobjekte/Lageplan_P1.png)\n",
    "\n",
    "# Elektrische Bauelemente\n",
    "\n",
    "## Motivation\n",
    "\n",
    "Die Eigenschaften eines elektrischen Bauelements hängen von vielen physikalischen Größen ab. Häufig wirkt sich dies besonders auf dessen Widerstand aus. Die vorherrschende Abhängigkeit gibt dem Bauteil seinen charakteristischen Namen: NTC- bzw. PTC-Widerstand weisen eine Temperaturabhängigkeit (Negative/Positive Temperature Coefficient) auf. Der VDR-Widerstand (Varistor, Voltage Dependent Resistance) reagiert auf Spannungsänderungen. Optoelektrische Bauteile wie Photowiderstand (LDR, Light Dependent Resistance), Photodiode und Phototransistor sind lichtempfindlich oder senden wie die Leuchtdiode (LED, Light Emitting Diode) Licht aus. Druckabhängige Bauelemente sind unter dem Namen Piezoelemente bekannt, da ihre Eigenschaften auf dem Piezoelektrischen Effekt beruhen. Supraleiter verlieren ihren elektrischen Widerstand unter bestimmten äußeren Bedingungen sogar gänzlich. Interessant ist zudem die Klassifizierung in Leiter, Halbleiter und Nichtleiter (Isolatoren) und die Untersuchung der besonderen Eigenschaften. Hier spielen Halbleiterbauelemente auf Grund ihrer Vielfalt die größte Rolle.\n",
    "\n",
    "## Lernziele\n",
    "\n",
    "- Die Eigenschaften verschiedener elektrischer Bauelemente sollen in diesem Versuch kennen gelernt werden.\n",
    "- Außerdem sollen die Messmethoden zur Untersuchung der jeweiligen Eigenschaften kennengelernt werden.\n",
    "- In der Auswertung stehen die Erklärung der beobachteten Effekte und die praktischen Anwendungsgebiete im Vordergrund."
   ]
  },
  {
   "cell_type": "markdown",
   "id": "3118ae3e-9fa4-47bf-826f-4cd5e5f290a9",
   "metadata": {},
   "source": [
    "## Versuchsaufbau\n",
    "\n",
    "<img src=\"./figures/Versuchsaufbau.jpg\" width=\"750\" height=\"750\" style=\"zoom:20%;\" />\n",
    "\n",
    "## Wichtige Hinweise\n",
    "\n",
    "- Sie benötigen einen USB-Stick zur Datensicherung.\n",
    "\n",
    "- **Aufgabe 1: Das Gehäuse des Ofens erhitzt sich stark! Vermeiden Sie jeglichen Kontakt mit der Oberfläche.**\n",
    "\n",
    "- **Aufgabe 5: Flüssiger Stickstoff ($T=-196°\\mathrm{C}$) kann schwere Kälteverbrennungen verursachen! Daher stets Handschuhe und Schutzbrille tragen.**\n",
    " "
   ]
  },
  {
   "cell_type": "markdown",
   "id": "6c044b4e-72d2-4f5f-885d-9cb8d85795d5",
   "metadata": {},
   "source": [
    "## Durchführung\n",
    "\n",
    "### Aufgabe 1: Wheatstoneschen Brückenschaltung\n",
    "\n",
    "**Messen Sie mit Hilfe der Wheatstoneschen Brückenschaltung die $P(T)$-Abhängigkeit verschiedener Bauteile im Bereich von Zimmertemperatur bis $\\approx 150°\\mathrm{C}$.**\n",
    "\n",
    "<img src=\"./figures/Wheatstonesche_Brueckenschaltung.png\" width=\"750\" height=\"750\" style=\"zoom:40%\" />\n",
    "\n",
    "- Messen Sie dazu mit Hilfe der Versuchsbox (Schaltplan als Grafik) nacheinander den Widerstand von NTC und PT100 in Abhängigkeit von der jeweiligen Temperatur. Als Spannungsquelle dient das Netzgerät, welches eine Gleichspannung von $U=2\\,\\mathrm{V}$ liefert. Um die Erwärmung des Widerstands durch den Messstrom gering zu halten, soll dieser jeweils nur kurzzeitig eingeschaltet werden (durch Betätigung des Tasters). Als Brückeninstrument dient das Multimeter im mA(DC)-Bereich. Wählen Sie den Referenzwiderstand in der gleichen Größenordnung wie das zu messende Bauteil. (Überprüfen Sie den angegebenen Wert mit dem Multimeter.) Nehmen Sie beim Erwärmen des Ofens die Messreihe am NTC und beim Abkühlen die Messreihe am PT100 auf.\n",
    "\n",
    "- Begründen Sie, warum die Messung mit Hilfe der Wheatstoneschen Brückenschaltung in diesem Falle sinnvoll ist.\n",
    "\n",
    "- Stellen Sie die $R(T)$-Abhängigkeiten jeweils graphisch dar und schließen Sie daraus auf die Eigenschaften des Bauteils.\n",
    "\n",
    "- Wählen Sie zur Auswertung für den NTC-Widerstand eine geeignete Auftragung, um die Koeffizienten $a$ und $b$ aus $R(T) = a \\cdot e^{b/T}$ zu bestimmen. Überlegen Sie sich, wie man NTC-Widerstände zur Temperaturmessung, zur Füllstandsanzeige und zur Strombegrenzung verwenden kann.\n",
    "\n",
    "- Für den PT100 gilt $R(T) = R_0 + c \\cdot T$. Bestimmen Sie die Konstante $c$ und überprüfen Sie den Widerstand $R_0$ bei $0°\\mathrm{C}$. Diskutieren Sie auch hier mögliche Einsatzgebiete.\n",
    "\n",
    "---"
   ]
  },
  {
   "cell_type": "markdown",
   "id": "923a5a23-9053-4465-9e19-830e339d05e8",
   "metadata": {},
   "source": [
    "**Lösung:**\n",
    "\n",
    "*Sie können Ihr Protokoll direkt in dieses Dokument einfügen. Wenn Sie dieses Dokument als Grundlage für ein [Jupyter notebook](https://jupyter.org/) verwenden wollen können Sie die Auswertung, Skripte und ggf. bildliche Darstellungen mit Hilfe von [python](https://www.python.org/) ebenfalls hier einfügen. Löschen Sie hierzu diesen kursiv gestellten Text aus dem Dokument.* \n",
    "\n",
    "---"
   ]
  },
  {
   "cell_type": "markdown",
   "id": "ff1e8d8c-bba2-402c-891a-9cd60312f658",
   "metadata": {},
   "source": [
    "### Aufgabe 2: Kennlinien\n",
    "\n",
    "**Überlegen Sie sich im Vorfeld durch Anfertigung von Schaltskizzen,**\n",
    "\n",
    "- wie eine Spannungsstabilisierung mit einer Zenerdiode zu realisieren wäre.\n",
    "- wie der Varistor als Schutz gegen induzierte Spannungen an geschalteten Induktivitäten zu verwenden ist.\n",
    "\n",
    "#### Aufgabe 2.1\n",
    "\n",
    "**Nehmen Sie die Kennlinien folgender Bauteile am USB-Oszilloskop auf:**\n",
    "\n",
    "- Silizium-Diode (SID)\n",
    "- Germanium-Diode (GED)\n",
    "- Zener-Diode (ZED)\n",
    "- Varistor (VDR)\n",
    "- Photodiode\n",
    "- Photowiderstand\n",
    "- LED (vier verschiedene Farben)\n",
    "\n",
    "<img src=\"./figures/Kennlinienaufnahme.jpg\" width=\"750\" height=\"750\" style=\"zoom:80%;\" />\n",
    "\n",
    "Für die Aufnahme der Kennlinien steht die Versuchsbox mit dem Schaltplan rechts zur Verfügung, an die das Eingangssignal über den Trenntransformator in Form einer sinusförmigen Wechselspannung ($f=100\\,\\mathrm{Hz}$) angelegt wird. Gemäß der Schaltung werden über einem Widerstand ($R=100\\,Ω$) an Kanal A (CH A) und über dem jeweiligen Bauteil an Kanal B (CH B) Spannungen abgenommen. Mit Hilfe der XY-Darstellung der „PicoScope 6-Software“ kann dann die jeweilige Kennlinie aufgenommen werden.\n",
    "Untersuchen Sie hierbei insbesondere:\n",
    "\n",
    "- SID, GED und ZED auf ihre jeweilige Schwellenspannung und ggf. auch Zenerspannung\n",
    "- Verhalten der Photodiode bei verschiedenen Beleuchtungen (z.B. auch Smartphone-Lampe)\n",
    "- Verhalten des Photowiderstands bei verschiedenen Beleuchtungen\n",
    "- Verschiedenfarbige LEDs auf ihre jeweilige Schwellenspannung und den Zusammenhang mit der Frequenz des emittierten Lichts\n",
    "\n",
    "Interpretieren Sie die Kennlinien ausführlich und geben Sie charakteristische Punkte an. Berechnen Sie beim Photowiderstand aus der Steigung der Kennlinien den jeweiligen Widerstandswert. Schließen Sie auf typische Eigenschaften der Bauteile und leiten Sie daraus mögliche Anwendungen ab.\n",
    "\n",
    "#### Aufgabe 2.2\n",
    "\n",
    "**Untersuchen Sie qualitativ die Frequenzabhängigkeit einiger Bauelemente (bei $f=0,1\\,\\mathrm{kHz}$ bis $f=10\\,\\mathrm{kHz}$ ).**\n",
    "\n",
    "---"
   ]
  },
  {
   "cell_type": "markdown",
   "id": "1fefea1d-718b-4dd4-a3ac-6352b9967365",
   "metadata": {},
   "source": [
    "**Lösung:**\n",
    "\n",
    "*Sie können Ihr Protokoll direkt in dieses Dokument einfügen. Wenn Sie dieses Dokument als Grundlage für ein [Jupyter notebook](https://jupyter.org/) verwenden wollen können Sie die Auswertung, Skripte und ggf. bildliche Darstellungen mit Hilfe von [python](https://www.python.org/) ebenfalls hier einfügen. Löschen Sie hierzu diesen kursiv gestellten Text aus dem Dokument.* \n",
    "\n",
    "---"
   ]
  },
  {
   "cell_type": "markdown",
   "id": "c1abecd6-3220-4eb0-be3c-592db15ad713",
   "metadata": {},
   "source": [
    "### Aufgabe 3\n",
    "\n",
    "**Beobachten Sie das Verhalten einer Photodiode unter Einfluss verschiedener Beleuchtungsstärken.**\n",
    "\n",
    "Stellen Sie die Kennlinie einer Photodiode bei verschiedenen Beleuchtungsstärken dar und entnehmen Sie dieser jeweils den Sperrstrom. Verwenden Sie hierzu die Schaltung aus Aufgabe 2 aus der vorherigen Aufgabe bei $10\\,\\mathrm{Hz}$ sowie die regulierbare Experimentierleuchte mit Photodioden-Aufsatz. Beginnen Sie bei einer Lampenspannung von $2\\,\\mathrm{V}$ als niedrigste Stufe der Beleuchtung und beobachten Sie die Veränderung der Kennlinie bei zunehmender Spannung ($1\\,\\mathrm{V}$-Schritte) und Beleuchtungsstärke. Stellen Sie in der Auswertung den Zusammenhang zwischen Sperrstrom und Beleuchtungsstärke graphisch dar.\n",
    "\n",
    "*Hinweis: Die Umrechnungstabelle zwischen Lampenspannung und Beleuchtungsstärke finden Sie unter [`params/Umrechnung_Lampenspannung.csv`.](https://git.scc.kit.edu/etp-lehre/p2-for-students/-/blob/main/Elektrische_Bauelemente/params/Umrechnung_Lampenspannung.csv)*\n",
    "\n",
    "---"
   ]
  },
  {
   "cell_type": "markdown",
   "id": "b4df506e-cedd-4d8f-bf1e-b1bb8c090f92",
   "metadata": {},
   "source": [
    "**Lösung:**\n",
    "\n",
    "*Sie können Ihr Protokoll direkt in dieses Dokument einfügen. Wenn Sie dieses Dokument als Grundlage für ein [Jupyter notebook](https://jupyter.org/) verwenden wollen können Sie die Auswertung, Skripte und ggf. bildliche Darstellungen mit Hilfe von [python](https://www.python.org/) ebenfalls hier einfügen. Löschen Sie hierzu diesen kursiv gestellten Text aus dem Dokument.* \n",
    "\n",
    "---"
   ]
  },
  {
   "cell_type": "markdown",
   "id": "256d9077-a7dc-417d-b6ee-8e53cffdba57",
   "metadata": {},
   "source": [
    "### Aufgabe 4: Piezoelektrischer Effekt\n",
    "\n",
    "**Untersuchen Sie den Piezoelektrischen Effekt am Piezoelement.**\n",
    "\n",
    "- Beobachten Sie den direkten Piezoelektrischen Effekt am USB-Oszilloskop, indem Sie manuell verschiedene Drücke auf das Piezo-Plättchen ausüben. Machen Sie ein Frequenzsignal sichtbar, indem Sie mit dem Frequenzgenerator verschiedene Signale auf den Lautsprecher geben und diese auf das Piezoelement übertragen.\n",
    "- Überprüfen Sie auch die Funktion des Piezoelements als Piezolautsprecher. Schließen Sie hierfür das Piezo-Element direkt an den Frequenzgenerator an.\n",
    "- Beschreiben Sie Ihre Beobachtungen und nennen Sie Anwendungen des Piezoelektrischen Effekts.\n",
    "\n",
    "---"
   ]
  },
  {
   "cell_type": "markdown",
   "id": "97ce286a-059d-4d23-960f-6317567962e9",
   "metadata": {},
   "source": [
    "**Lösung:**\n",
    "\n",
    "*Sie können Ihr Protokoll direkt in dieses Dokument einfügen. Wenn Sie dieses Dokument als Grundlage für ein [Jupyter notebook](https://jupyter.org/) verwenden wollen können Sie die Auswertung, Skripte und ggf. bildliche Darstellungen mit Hilfe von [python](https://www.python.org/) ebenfalls hier einfügen. Löschen Sie hierzu diesen kursiv gestellten Text aus dem Dokument.* \n",
    "\n",
    "---"
   ]
  },
  {
   "cell_type": "markdown",
   "id": "59aa6269-e7cc-46f1-bc6c-d482c185e1c5",
   "metadata": {},
   "source": [
    "### Aufgabe 5: Hochtemperatursupraleiter\n",
    "\n",
    "**Bestimmen Sie die Sprungtemperatur eines  Hochtemperatursupraleiters.**\n",
    "\n",
    "Messen Sie den Spannungsabfall am Hochtemperatursupraleiter mit Hilfe der fertig aufgebauten Vierleiterschaltung ($I_\\mathrm{const}=63\\,\\mathrm{mA}$) und des Multimeters. Kühlen Sie die Probe von Raumtemperatur auf $77\\,\\mathrm{K}$ ab. Nutzen Sie hierfür den Temperaturgradienten über dem Stickstoff-Bad. Nehmen Sie eine Messreihe aus $U_\\mathrm{gem}$ und zugehöriger Temperatur $T$ in $5\\,\\mathrm{K}$-Schritten auf. Beschreiben Sie das Verhalten des Hochtemperatursupraleiters.\n",
    "\n",
    "- Tragen Sie zur Auswertung den Widerstand $R=U_\\mathrm{gem}/I$ über der Temperatur $T$ auf und geben Sie die Sprungtemperatur an.\n",
    "- Erklären Sie, warum zur Messung eine Vierleiterschaltung verwendet wird.\n",
    "\n",
    "Beachten Sie, dass die Anzeige des Thermometers bei tiefen Temperaturen entsprechend der im Datenblatt angegebenen Tabelle [`params/Temperatur_Korrektur.csv`](https://git.scc.kit.edu/etp-lehre/p2-for-students/-/blob/main/Elektrische_Bauelemente/params/Temperatur_Korrektur.csv) vom wahren Wert abweicht. Für die Beurteilung der Sprungtemperatur beachten Sie, dass am Ort von Temperatursensor und Supraleiter ein hoher Temperaturgradient vorliegt.\n",
    "\n",
    "---"
   ]
  },
  {
   "cell_type": "markdown",
   "id": "3439cde4-719b-44cf-9499-da75cdf7d9f5",
   "metadata": {},
   "source": [
    "**Lösung:**\n",
    "\n",
    "*Sie können Ihr Protokoll direkt in dieses Dokument einfügen. Wenn Sie dieses Dokument als Grundlage für ein [Jupyter notebook](https://jupyter.org/) verwenden wollen können Sie die Auswertung, Skripte und ggf. bildliche Darstellungen mit Hilfe von [python](https://www.python.org/) ebenfalls hier einfügen. Löschen Sie hierzu diesen kursiv gestellten Text aus dem Dokument.* "
   ]
  }
 ],
 "metadata": {
  "kernelspec": {
   "display_name": "Python 3 (ipykernel)",
   "language": "python",
   "name": "python3"
  },
  "language_info": {
   "codemirror_mode": {
    "name": "ipython",
    "version": 3
   },
   "file_extension": ".py",
   "mimetype": "text/x-python",
   "name": "python",
   "nbconvert_exporter": "python",
   "pygments_lexer": "ipython3",
   "version": "3.10.6"
  }
 },
 "nbformat": 4,
 "nbformat_minor": 5
}
