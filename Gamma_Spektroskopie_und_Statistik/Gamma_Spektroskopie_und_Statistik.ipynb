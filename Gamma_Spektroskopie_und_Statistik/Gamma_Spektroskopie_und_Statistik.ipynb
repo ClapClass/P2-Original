{
 "cells": [
  {
   "cell_type": "markdown",
   "id": "6b209e61-005b-47d8-93bb-bad98b3b846f",
   "metadata": {},
   "source": [
    "<img src=\"./figures/Logo_KIT.svg\" width=\"250\" height=\"250\" style=\"zoom:15%;float:right;\" />\n",
    "\n",
    "# Fakultät für Physik\n",
    "\n",
    "## Physikalisches Praktikum P2 für Studierende der Physik\n",
    "\n",
    "Versuch P2-72, 73, 83 (Stand: April 2023)\n",
    "\n",
    "[Raum F2-19](http://www-ekp.physik.uni-karlsruhe.de/~simonis/praktikum/layoutobjekte/Lageplan_P1.png)"
   ]
  },
  {
   "cell_type": "markdown",
   "id": "b55b43dd-729b-406d-9ed0-f68d581e4d0c",
   "metadata": {},
   "source": [
    "<br>\n",
    "Name: __________________ Vorname: __________________\n",
    "<br>\n",
    "<br>\n",
    "Name: __________________ Vorname: __________________\n",
    "<br>\n",
    "<br>\n",
    "<br>\n",
    "Gruppennummer: _____\n",
    "<br>\n",
    "<br>\n",
    "<br>\n",
    "Betreuer: __________________\n",
    "<br>\n",
    "<br>\n",
    "<br>\n",
    "Versuch durchgeführt am: __________________"
   ]
  },
  {
   "cell_type": "markdown",
   "id": "90981efb-99c6-471c-8067-5016eafe746d",
   "metadata": {},
   "source": [
    "---\n",
    "\n",
    "**Beanstandungen:**\n",
    "\n",
    "<br>\n",
    "<br>\n",
    "<br>\n",
    "<br>\n",
    "<br>\n",
    "<br>\n",
    "<br>\n",
    "<br>\n",
    "<br>\n",
    "<br>\n",
    "\n",
    "Testiert am: __________________"
   ]
  },
  {
   "cell_type": "markdown",
   "id": "74b4df7b-5b6d-45f6-b73c-f5da2f98cff7",
   "metadata": {},
   "source": [
    "# Gamma Spektroskopie und Statistik\n",
    "\n",
    "## Motivation\n",
    "\n",
    "Bei Experimenten der Kern- und Elementarteilchenphysik ist neben den Fragen nach Art, Ort, Richtung und Zeitpunkt die Frage nach der Energie der auftretenden Strahlung besonders wichtig. Für die $\\gamma$-Spektroskopie gibt es, wie auch für die anderen Teilchenarten, eine ganze Reihe von Nachweismethoden, von denen die mit Szintillator, Photokathode und Sekundärelektronenvervielfacher (SEV) besonders verbreitet ist. So werden z.B. auch in den Großexperimenten des LHCs am CERN Photonen mit Szintillationszählern vermessen.\n",
    "\n",
    "## Lernziele\n",
    "\n",
    "In diesem Versuch lernen Sie die experimentelle Technik von Szintillationszählern und die zugehörigen elektronischen Geräte kennen. Für das Verständnis der Methode bedarf es der Beschäftigung mit den drei Wechselwirkungsprozessen von $\\gamma$-Strahlung mit Materie. Schließlich liefern die bei der Szintillationsspektroskopie auftretenden statistischen Vorgänge noch Anlass zu einer etwas eingehenderen Beschäftigung mit statistischen Gesetzmäßigkeiten."
   ]
  },
  {
   "cell_type": "markdown",
   "id": "52fb7145-e4ef-4280-8338-5ea688fb46f9",
   "metadata": {},
   "source": [
    "## Versuchsaufbau\n",
    "\n",
    "<img src=\"./figures/Gammaspektroskopie.jpg\" width=\"750\" height=\"750\" style=\"zoom:40%;\" />\n",
    "\n",
    "## Wichtige Hinweise\n",
    "\n",
    "- Die Kernphysik-Räume stellen einen innerbetrieblichen Überwachungsbereich dar. Hier gelten nach der Strahlenschutzverordnung besondere Regeln, die unbedingt zu beachten sind.\n",
    "- Kernphysikalische Versuche dürfen erst nach Teilnahme an der Strahlenschutzbelehrung (die im Regelfall während der Vorbesprechung zum Praktikum stattfindet) durchgeführt werden.\n",
    "- Der Zugang zum Bunker für radioaktive Präparate ist nur den Betreuern gestattet.\n",
    "- **Bitte USB-Stick mitbringen, um die Daten bei Bedarf mit nach Hause nehmen zu können.**"
   ]
  },
  {
   "cell_type": "markdown",
   "id": "e13de07e-5451-471b-a22b-1c7905af9470",
   "metadata": {},
   "source": [
    "## Durchführung\n",
    "\n",
    "### Aufgabe 0: Einarbeitung in das CASSY–LAB Systems\n",
    "\n",
    "Die Datenerfassung erfolgt über das Vielkanal-Interface des CASSY–LAB Systems. Das Bedienungshandbuch des CASSY Systems ist vor Ort vorhanden und liegt [hier](http://www-ekp.physik.uni-karlsruhe.de/~simonis/praktikum/Manuals/CassyLab-2-Handbuch.pdf) in elektronischer Form vor.\n",
    "\n",
    "- Zur Durchführung des Versuchs ist die Kenntnis der ersten dreißig Seiten von Nutzen und sollten schon zur Versuchsvorbereitung gelesen werden.\n",
    "- Starten Sie das CASSY Programm und machen Sie sich damit vertraut.\n",
    "- Stellen Sie die geeigneten Parameter in dem Messparameterfenster ein. Es empfiehlt sich, dieses Fenster für schnelleres Arbeiten weiterhin offen zu halten.\n",
    "- Der dynamische Bereich des Detektors soll durch geeignete Einstellung der Betriebsspannung am SEV (Sehen Sie sich die Ausgangsimpulse des SEV am Oszilloskop an.) und der Software-Verstärkung möglichst voll ausgenutzt werden. Die Spannung ist gut eingestellt, wenn die Signale der höchsten Gamma-Linie gerade noch nicht in Sättigung gehen ($\\approx900\\,\\mathrm{V}$).\n",
    "\n",
    "---"
   ]
  },
  {
   "cell_type": "markdown",
   "id": "093b91d5-4284-43e4-bfaa-dfce3f41b29b",
   "metadata": {},
   "source": [
    "**Lösung:**\n",
    "\n",
    "*Sie können Ihr Protokoll direkt in dieses Dokument einfügen. Wenn Sie dieses Dokument als Grundlage für ein [Jupyter notebook](https://jupyter.org/) verwenden wollen können Sie die Auswertung, Skripte und ggf. bildliche Darstellungen mit Hilfe von [python](https://www.python.org/) ebenfalls hier einfügen. Löschen Sie hierzu diesen kursiv gestellten Text aus dem Dokument.* \n",
    "\n",
    "---"
   ]
  },
  {
   "cell_type": "markdown",
   "id": "8b3ad7b9-496e-4423-aff2-42a82fc01d77",
   "metadata": {},
   "source": [
    "### Aufgabe 1: Impulshöhenspektren\n",
    "\n",
    "#### Aufgabe 1.1\n",
    "\n",
    "**Messen Sie das Impulshöhenspektrum der $\\gamma$-Strahlung von $^{137}\\mathrm{Cs}$, $^{22}\\mathrm{Na}$ und von $^{60}\\mathrm{Co}$ sowie das Untergrundspektrum mit Hilfe des 1024-Kanalbetriebs des Impulshöhenanalysators.**\n",
    "\n",
    "- Stellen Sie die Programmparameter in dem *Parameterfenster* entsprechend ein. Der dynamische Detektorbereich soll vom Impulshöhenspektrum der höherenergetischen Strahlung von $^{60}\\mathrm{Co}$ ($1173\\,\\mathrm{keV}$ und $1333\\,\\mathrm{keV}$) ausgenutzt und unverändert auch bei der Messung an $^{137}\\mathrm{Cs}$ ($662\\,\\mathrm{keV}$) und $^{22}\\mathrm{Na}$ ($511\\,\\mathrm{keV}$ und $1275\\,\\mathrm{keV}$) benutzt werden.\n",
    "- Das Entstehen eines Impulshöhenspektrums mit der Zeit kann am Bildschirm verfolgt werden. Der Abstand Präparat - Szintillator soll jeweils so gewählt werden, dass die effektiven Zählraten für Co-60, Na-22 und Cs-137 etwa gleich sind und $400/\\mathrm{s}$ bis $800/\\mathrm{s}$ betragen. Diese effektive Zählrate (Mittel über alle Kanäle) wird im Fenster Eigenschaften angezeigt.\n",
    "- Überprüfen Sie, welchen Einfluss das Untergrundspektrum auf die Messung hat, und korrigieren Sie ggf. die Spektren.\n",
    "\n",
    "*Hinweis: Bitte vergessen Sie nicht, auch Zwischenergebnisse abzuspeichern, um etwaigem Datenverlust vorzubeugen.*\n",
    "\n",
    "---"
   ]
  },
  {
   "cell_type": "markdown",
   "id": "63cb8265-09bf-4c7c-8026-20d6215cddeb",
   "metadata": {},
   "source": [
    "**Lösung:**\n",
    "\n",
    "*Sie können Ihr Protokoll direkt in dieses Dokument einfügen. Wenn Sie dieses Dokument als Grundlage für ein [Jupyter notebook](https://jupyter.org/) verwenden wollen können Sie die Auswertung, Skripte und ggf. bildliche Darstellungen mit Hilfe von [python](https://www.python.org/) ebenfalls hier einfügen. Löschen Sie hierzu diesen kursiv gestellten Text aus dem Dokument.* \n",
    "\n",
    "---"
   ]
  },
  {
   "cell_type": "markdown",
   "id": "2e03668a-e1df-4031-be52-f95b9e9b4e23",
   "metadata": {},
   "source": [
    "#### Aufgabe 1.2\n",
    "\n",
    "**Deuten Sie die erhaltenen Impulshöhenspektren aufgrund der verschiedenen Wechselwirkungsprozesse von $\\gamma$-Strahlung mit Materie.**\n",
    "\n",
    "Dazu ist es zweckmäßig, anhand des Photopeaks von $^{137}\\mathrm{Cs}$ eine Energieskalierung vorzunehmen und dann die gemessenen und die berechneten Energien an Stellen, bei denen Besonderheiten im Impulshöhenspektrum zu erwarten sind, zu vergleichen.\n",
    "\n",
    "- Berechnen Sie dafür bereits in der Vorbereitung die Energien der Comptonkanten.\n",
    "\n",
    "Das Programm unterstützt den Benutzer bei der Analyse eines Spektrums: Zeigt der Cursor in das zu analysierende Spektrum und drückt man die rechte Maustaste, so werden verschiedene Analysewerkzeuge angeboten. Zusätzlich können Sie erklärenden Text in die Diagramme einfügen und diese dann ausdrucken.\n",
    "\n",
    "- Diskutieren Sie auch die statistischen Effekte, welche die \"Verschmierung\" des erhaltenen Impulshöhenspektrums, besonders deutlich bei den Photopeaks, bewirkt haben.\n",
    "- Schätzen Sie die Anzahl der Elektronen $n_\\mathrm{e}$ ab, die bei einem Impuls, der zum Photopeak bei $^{137}\\mathrm{Cs}$ beiträgt, von der Photokathode emittiert wurden. $n_\\mathrm{e}$ charakterisiert die Auflösung eines Detektors.\n",
    "- Überprüfen Sie die Linearität der Apparatur, indem Sie die Information aus den drei Spektren verwenden.\n",
    "- Mit unveränderten Einstellungen können noch Spektren (oder ein Überlagerungsspektrum) mit weiteren radioaktiven Quellen aufgenommen werden. Geeignet sind $^{241}\\mathrm{Am}$ ($59,5\\,\\mathrm{keV}$) und $^{57}\\mathrm{Co}$ ($122\\,\\mathrm{keV}$). Der Betreuer kann Ihnen diese Quellen aushändigen.\n",
    "\n",
    "---"
   ]
  },
  {
   "cell_type": "markdown",
   "id": "10090dc6-ab5e-471e-8876-bccdd2f340a3",
   "metadata": {},
   "source": [
    "**Lösung:**\n",
    "\n",
    "*Sie können Ihr Protokoll direkt in dieses Dokument einfügen. Wenn Sie dieses Dokument als Grundlage für ein [Jupyter notebook](https://jupyter.org/) verwenden wollen können Sie die Auswertung, Skripte und ggf. bildliche Darstellungen mit Hilfe von [python](https://www.python.org/) ebenfalls hier einfügen. Löschen Sie hierzu diesen kursiv gestellten Text aus dem Dokument.* \n",
    "\n",
    "---"
   ]
  },
  {
   "cell_type": "markdown",
   "id": "a09b9086-556d-4b45-9602-c5442154eb66",
   "metadata": {},
   "source": [
    "### Aufgabe 2: Aktivität des $^{137}\\mathrm{Cs}$-Präparats\n",
    "\n",
    "**Bestimmen Sie die Aktivität des $^{137}\\mathrm{Cs}$-Präparats.**\n",
    "\n",
    "Verwenden Sie die Zählraten, die vom Programm berechnet und angezeigt werden, und die Nachweiswahrscheinlichkeit (Diagramm \"Quotient Anzahl der ... Quanten\") des benutzten Szintillatorkristalls im gewählten Abstand und bei der betreffenden Strahlungsenergie.\n",
    "\n",
    "- Welche Effekte berücksichtigt das Diagramm, wenn bei seiner Verwendung kein weiterer Effekt mehr in die Rechnung einfließen muss?\n",
    "- Bei wenigstens drei verschiedenen Abständen Quelle-Szintillatorstirnfläche sollte gemessen und ein Ausgleichswert berechnet werden.\n",
    "- Prüfen Sie, ob eine Totzeitkorrektur der Zählraten notwendig ist.\n",
    "\n",
    "---"
   ]
  },
  {
   "cell_type": "markdown",
   "id": "d12e0ce7-4d69-4523-9a0d-c39549ec3d95",
   "metadata": {},
   "source": [
    "**Lösung:**\n",
    "\n",
    "*Sie können Ihr Protokoll direkt in dieses Dokument einfügen. Wenn Sie dieses Dokument als Grundlage für ein [Jupyter notebook](https://jupyter.org/) verwenden wollen können Sie die Auswertung, Skripte und ggf. bildliche Darstellungen mit Hilfe von [python](https://www.python.org/) ebenfalls hier einfügen. Löschen Sie hierzu diesen kursiv gestellten Text aus dem Dokument.* \n",
    "\n",
    "---"
   ]
  },
  {
   "cell_type": "markdown",
   "id": "43b99a40-8f70-4c66-95c9-6c4fc1a35785",
   "metadata": {},
   "source": [
    "### Aufgabe 3: Röntgenemission\n",
    "\n",
    "Verwenden Sie die $\\mathrm{Cs}$-Quelle um an Materialien mit schwerem $Z$ Röntgenemission zu erzeugen. Legen Sie dazu die entsprechenden Materialien direkt auf den Szintillator. Erhöhen Sie die Messgenauigkeit für niedrige Energien durch Erhöhen der Detektorspannung. Zur genauen Peakbestimmung sollte der Gaussfit\n",
    "verwendet werden.\n",
    "\n",
    "#### Aufgabe 3.1\n",
    "\n",
    "**Führen Sie eine Energiekalibration anhand der $\\mathrm{Ba-}K_\\alpha$ und $\\mathrm{Pb-}K_\\alpha$ Röntgenlinie durch und stellen Sie die gemessene Energie gegen $Z^2$ für alle vorhandenen Elemente auf**\n",
    "\n",
    "Informationen zum Moseleyschen Gesetz befinden sich [hier](https://de.wikipedia.org/wiki/Moseleysches_Gesetz) und eine Tabelle der $K_\\alpha$-Übergangsenergien ist in [`params/Moseley-Gesetz.csv`](https://git.scc.kit.edu/etp-lehre/p2-for-students/-/blob/main/Gamma_Spektroskopie_und_Statistik/params/Moseley.csv) gegeben.\n",
    "\n",
    "---"
   ]
  },
  {
   "cell_type": "markdown",
   "id": "03aebba2-d3ee-4201-a13d-9be39898415b",
   "metadata": {},
   "source": [
    "**Lösung:**\n",
    "\n",
    "*Sie können Ihr Protokoll direkt in dieses Dokument einfügen. Wenn Sie dieses Dokument als Grundlage für ein [Jupyter notebook](https://jupyter.org/) verwenden wollen können Sie die Auswertung, Skripte und ggf. bildliche Darstellungen mit Hilfe von [python](https://www.python.org/) ebenfalls hier einfügen. Löschen Sie hierzu diesen kursiv gestellten Text aus dem Dokument.* \n",
    "\n",
    "---"
   ]
  },
  {
   "cell_type": "markdown",
   "id": "f387a7ec-0948-4af4-93e2-7f59fa0be684",
   "metadata": {},
   "source": [
    "#### Aufgabe 3.2\n",
    "\n",
    "**Bestimmen Sie anhand Ihres Diagramms das \"unbekannte Element\".**\n",
    "\n",
    "---"
   ]
  },
  {
   "cell_type": "markdown",
   "id": "708add84-402d-4f1a-9178-10a2c32eb7e5",
   "metadata": {},
   "source": [
    "**Lösung:**\n",
    "\n",
    "*Sie können Ihr Protokoll direkt in dieses Dokument einfügen. Wenn Sie dieses Dokument als Grundlage für ein [Jupyter notebook](https://jupyter.org/) verwenden wollen können Sie die Auswertung, Skripte und ggf. bildliche Darstellungen mit Hilfe von [python](https://www.python.org/) ebenfalls hier einfügen. Löschen Sie hierzu diesen kursiv gestellten Text aus dem Dokument.* \n",
    "\n",
    "---"
   ]
  },
  {
   "cell_type": "markdown",
   "id": "4cd47a85-d1bd-46ac-ab4a-cd8df3d1bf11",
   "metadata": {},
   "source": [
    "### Aufgabe 4: Statistik\n",
    "\n",
    "#### Aufgabe 4.1\n",
    "\n",
    "**Untersuchen Sie die statistische Verteilung von gemessenen Ereignisanzahlen bei häufig\n",
    "wiederholter Messung von Untergrundstrahlung unter stets gleichen Bedingungen.**\n",
    "\n",
    "- Wählen Sie dazu im *Parameterfenster: Vielkanalmessung, 256 Kanäle* und *wiederholende Messung* bei einer Messzeit von 1 Sekunde. Nehmen Sie einen statistischen Daten-Pool von mindestens 150 Spektren auf.\n",
    "\n",
    "Sie erhalten eine Tabelle mit 150 Spalten (Spektren) und 256 Zeilen (Kanäle, Energieintervalle). Keiner der Einträge ist vorhersagbar sondern hängt nur von der Statistik des radioaktiven Zerfalls ab, der einen natürlichen Zufallsgenerator darstellt.\n",
    "\n",
    "Bilden Sie zwei Stichproben mit je 150 Zahlen, indem Sie:\n",
    "\n",
    "1. die Zählrate aus nur einem Teil eines Spektrums aufintegrieren, so dass der Mittelwert der 150 Summen ungefähr 3 beträgt.\n",
    "2. die Gesamtzählrate der einzelnen Spektren verwenden.\n",
    "\n",
    "---"
   ]
  },
  {
   "cell_type": "markdown",
   "id": "cb223b95-bad1-4ed1-87a5-31c64c48cdfe",
   "metadata": {},
   "source": [
    "**Lösung:**\n",
    "\n",
    "*Sie können Ihr Protokoll direkt in dieses Dokument einfügen. Wenn Sie dieses Dokument als Grundlage für ein [Jupyter notebook](https://jupyter.org/) verwenden wollen können Sie die Auswertung, Skripte und ggf. bildliche Darstellungen mit Hilfe von [python](https://www.python.org/) ebenfalls hier einfügen. Löschen Sie hierzu diesen kursiv gestellten Text aus dem Dokument.* \n",
    "\n",
    "---"
   ]
  },
  {
   "cell_type": "markdown",
   "id": "b03da9a7-234b-4eaa-aef0-fbb2fad9dbae",
   "metadata": {},
   "source": [
    "#### Aufgabe 4.2\n",
    "\n",
    "**Berechnen Sie von beiden Stichproben den Mittelwert $x_\\mathrm{m}$, die Standardabweichung $s$ der Einzelmesswerte und die Standardabweichung $s_\\mathrm{x_\\mathrm{m}}$ des Mittelwertes.**\n",
    "\n",
    "Prüfen Sie, ob die Standardabweichung der Einzelmesswerte gleich der Wurzel aus dem Mittelwert ist, wie die theoretisch zu erwartende Poisson-Verteilung es verlangt.\n",
    "\n",
    "---"
   ]
  },
  {
   "cell_type": "markdown",
   "id": "1a67e8f5-8998-47a7-a5a7-5a082f93fcf3",
   "metadata": {},
   "source": [
    "**Lösung:**\n",
    "\n",
    "*Sie können Ihr Protokoll direkt in dieses Dokument einfügen. Wenn Sie dieses Dokument als Grundlage für ein [Jupyter notebook](https://jupyter.org/) verwenden wollen können Sie die Auswertung, Skripte und ggf. bildliche Darstellungen mit Hilfe von [python](https://www.python.org/) ebenfalls hier einfügen. Löschen Sie hierzu diesen kursiv gestellten Text aus dem Dokument.* \n",
    "\n",
    "---"
   ]
  },
  {
   "cell_type": "markdown",
   "id": "786b2179-bed5-4b3a-8d39-22e724181818",
   "metadata": {},
   "source": [
    "#### Aufgabe 4.3\n",
    "\n",
    "**Stellen Sie die Stichproben als Häufigkeitsverteilungen graphisch dar, und tragen Sie in das jeweilige Diagramm auch die mit Hilfe von $x_\\mathrm{m}$ berechnete Poisson-Verteilung und die mit Hilfe von $x_\\mathrm{m}$ und $s$ berechnete Gaußverteilung (=Normalverteilung) ein.**\n",
    "\n",
    "- Machen Sie eine Aussage über die Ersetzbarkeit der Poissonverteilung durch die Gaußverteilung in Abhängigkeit vom Mittelwert.\n",
    "\n",
    "---"
   ]
  },
  {
   "cell_type": "markdown",
   "id": "adad56b8-a299-4af2-b377-7eae39cceb9b",
   "metadata": {},
   "source": [
    "**Lösung:**\n",
    "\n",
    "*Sie können Ihr Protokoll direkt in dieses Dokument einfügen. Wenn Sie dieses Dokument als Grundlage für ein [Jupyter notebook](https://jupyter.org/) verwenden wollen können Sie die Auswertung, Skripte und ggf. bildliche Darstellungen mit Hilfe von [python](https://www.python.org/) ebenfalls hier einfügen. Löschen Sie hierzu diesen kursiv gestellten Text aus dem Dokument.* \n",
    "\n",
    "---"
   ]
  },
  {
   "cell_type": "markdown",
   "id": "ed0594f4-acc9-43d0-ac4c-324a61f2eefb",
   "metadata": {},
   "source": [
    "#### Aufgabe 4.4\n",
    "\n",
    "**Prüfen Sie mit Hilfe des Chi-Quadrat-Tests bei einer vernünftig gewählten Signifikanzzahl die folgenden Hypothesen.**\n",
    "\n",
    "1. Die Stichproben stammen aus einer normalverteilten Grundgesamtheit.\n",
    "2. Die Stichproben stammen aus einer poissonverteilten Grundgesamtheit.\n",
    "\n",
    "---"
   ]
  },
  {
   "cell_type": "markdown",
   "id": "8fd47165-4cd6-491f-a7ef-9e89a40d0193",
   "metadata": {},
   "source": [
    "**Lösung:**\n",
    "\n",
    "*Sie können Ihr Protokoll direkt in dieses Dokument einfügen. Wenn Sie dieses Dokument als Grundlage für ein [Jupyter notebook](https://jupyter.org/) verwenden wollen können Sie die Auswertung, Skripte und ggf. bildliche Darstellungen mit Hilfe von [python](https://www.python.org/) ebenfalls hier einfügen. Löschen Sie hierzu diesen kursiv gestellten Text aus dem Dokument.* \n",
    "\n",
    "---"
   ]
  },
  {
   "cell_type": "markdown",
   "id": "e9183b05-d118-4e4f-be14-9dee17e50482",
   "metadata": {},
   "source": [
    "### Anhang: Hilfe zur Bearbeitung von Aufgabe 4 mit EXCEL\n",
    "\n",
    "Importieren Sie die von CASSY-Lab gespeicherten LAB Dateien in EXCEL (Einstellungen: “getrennt“, Trennzeichen: “Tabulator“). Im Mittelteil enthält diese Datei einen großen Tabellenblock mit allen Spektren als Spaltenvektoren. Die relevanten Zahlen stehen in Zeilen, die mit NAN (*not a number*) beginnen. Zur Auswertung generiert man in einer EXCEL-Tabelle eine Spalte mit den Einträgen zum Beispiel “=Summe(C10:C26)“, “=Summe(D10:D26)“, “=Summe(E10:E26)“, ... bzw. “=Summe(C1:C256)“, “=Summe(D1:D256)“, “=Summe(E1:E256)“, ...\n",
    "\n",
    "Mit der Häufigkeitsfunktion kann man dann zur weiteren Analyse die Häufigkeitsverteilung dieser Stichproben erhalten. Erstellen Sie dazu eine Spalte mit den Klassen (z.B. Zahlen 1 bis 40), markieren Sie die Zellen der Spalte, die die Häufigkeiten aufnehmen sollen. Unter *Einfügen/Funktion* finden Sie die Funktion *Häufigkeit*. Wählen Sie für *Daten* die Werte einer Stichprobe und für *Klassen* die Zellen der Klassenspalte. Beim Verlassen der Funktion bestätigen Sie mit *Strg-Umschalt-Eingabe*, damit die Formel als Matrixfunktion eingegeben wird."
   ]
  }
 ],
 "metadata": {
  "kernelspec": {
   "display_name": "Python 3 (ipykernel)",
   "language": "python",
   "name": "python3"
  },
  "language_info": {
   "codemirror_mode": {
    "name": "ipython",
    "version": 3
   },
   "file_extension": ".py",
   "mimetype": "text/x-python",
   "name": "python",
   "nbconvert_exporter": "python",
   "pygments_lexer": "ipython3",
   "version": "3.10.6"
  }
 },
 "nbformat": 4,
 "nbformat_minor": 5
}
