{
 "cells": [
  {
   "cell_type": "markdown",
   "id": "94fd13f2-adf8-4e04-93b8-2afdad1a8eaf",
   "metadata": {},
   "source": [
    "<img src=\"./figures/Logo_KIT.svg\" width=\"250\" height=\"250\" style=\"zoom:15%;float:right;\" />\n",
    "\n",
    "# Fakultät für Physik\n",
    "\n",
    "## Physikalisches Praktikum P2 für Studierende der Physik\n",
    "\n",
    "Versuch P2-13 (Stand: April 2023)\n",
    "\n",
    "[Raum F1-09](http://www-ekp.physik.uni-karlsruhe.de/~simonis/praktikum/layoutobjekte/Lageplan_P1.png)"
   ]
  },
  {
   "cell_type": "markdown",
   "id": "6ac1fb02-2f77-4302-9f36-46fe3ed60fcd",
   "metadata": {},
   "source": [
    "<br>\n",
    "Name: __________________ Vorname: __________________\n",
    "<br>\n",
    "<br>\n",
    "Name: __________________ Vorname: __________________\n",
    "<br>\n",
    "<br>\n",
    "<br>\n",
    "Gruppennummer: _____\n",
    "<br>\n",
    "<br>\n",
    "<br>\n",
    "Betreuer: __________________\n",
    "<br>\n",
    "<br>\n",
    "<br>\n",
    "Versuch durchgeführt am: __________________"
   ]
  },
  {
   "cell_type": "markdown",
   "id": "55af9086-5b4e-4b0a-b84b-41816f3a1ed5",
   "metadata": {},
   "source": [
    "---\n",
    "\n",
    "**Beanstandungen:**\n",
    "\n",
    "<br>\n",
    "<br>\n",
    "<br>\n",
    "<br>\n",
    "<br>\n",
    "<br>\n",
    "<br>\n",
    "<br>\n",
    "<br>\n",
    "<br>\n",
    "\n",
    "Testiert am: __________________"
   ]
  },
  {
   "cell_type": "markdown",
   "id": "f52af89d-8251-4030-be4c-c09ac9d4238b",
   "metadata": {},
   "source": [
    "# Interferenz\n",
    "\n",
    "## Motivation\n",
    "\n",
    "Bei diesem Versuch geht es um Beugungs- und Interferenzerscheinungen des Lichts, also um Phänomene deren Deutung den Wellencharakter des Lichts anspricht Interferenzerscheinungen können in der Natur beobachtet werden, z.B. als Farben dünner Schichten (Seifenblasen, Ölfilm auf der Wasseroberfläche), als störende Farbschlieren bei der Diaprojektion oder als Beugung an Kanten. Die technischen Anwendungen sind vielfältig. Beispiele dafür sind Interferometer für diverse Messzwecke, Interferenzfilter und holographische Verfahren.\n",
    "\n",
    "Es gibt verschiedene Möglichkeiten zur Erzeugung monochromatischen Lichts. Abgesehen von Lasern, denen zwei eigene Praktikumsversuche gewidmet sind, werden hier Spektrallampen eingesetzt, deren charakteristische Linienspektren durch die Atomphysik erklärt werden. Eine viel weniger aufwändige (und hundertmal billigere) Lichtquelle stellt eine LED dar, die im ersten Versuchsteil zur Anwendung kommt. Durch den Vergleich einer farbigen LED mit einer weißen oder gar mit der Na-Spektrallampe können Sie sich ein Bild davon machen, wie „monochromatisch“ ein solches Bauteil wirklich ist.\n",
    "\n",
    "## Lernziele"
   ]
  },
  {
   "cell_type": "markdown",
   "id": "f362b1cf-5e6f-4460-b145-df3c2a02ad5f",
   "metadata": {},
   "source": [
    "## Versuchsaufbau\n",
    "\n",
    "Stereomikroskope und verschiedene LEDs als \"quasimonochromatische\" Lichtquellen (für Aufgabe 1)\n",
    "\n",
    "<img src=\"./figures/Stereomikroskop.jpg\" style=\"zoom:80%;\" />\n",
    "\n",
    "Newtonsche Ringe mit blauer und roter LED\n",
    "\n",
    "<img src=\"./figures/Newtonsche_Ringe_blau.jpg\" style=\"zoom:80%;\" />\n",
    "<img src=\"./figures/Newtonsche_Ringe_rot.jpg\" style=\"zoom:80%;\" />\n",
    "\n",
    "Anordnung zur Autokollimation (für Aufgabe 1.3)\n",
    "\n",
    "<img src=\"./figures/Autokollimation.jpg\" style=\"zoom:80%;\" />\n",
    "\n",
    "Spektrometer mit Spektrallampen (für Aufgabe 2)\n",
    "\n",
    "<img src=\"./figures/Spektrometer.jpg\" style=\"zoom:80%;\" />\n",
    "\n",
    "In diesem Versuch wird folgendes Zubehör verwendet:\n",
    "\n",
    "- **Auflichtmikroskop** (Objektiv 1x, Okular 10x mit Fadenkreuz, Zoom-Faktor 1 bis 4). Seitlich einfallendes Licht wird durch einen teildurchlässigen planen $45°$-Reflektor von oben auf das Objekt gelenkt. Der Objekttisch (Kreuztisch) ist in beiden Richtungen verschiebbar. Die Verschiebungen sind an Millimeterskalen mit Nonius ablesbar.\n",
    "- **LED-Beleuchtung**\n",
    "  - blau: $465\\,\\mathrm{nm}$\n",
    "  - grün: $520\\,\\mathrm{nm}$\n",
    "  - gelb: $590\\,\\mathrm{nm}$\n",
    "  - rot: $625\\,\\mathrm{nm}$\n",
    "- **Symmetrische Bikonvexlinsen**: diverse Brennweiten zwischen $5\\,\\mathrm{cm}$ und $35\\,\\mathrm{cm}$\n",
    "- **Linsenhalter** mit Wechselfassung\n",
    "- **Mattscheibe** mit undurchsichtigem Muster\n",
    "- **Planspiegel** (justierbar)\n",
    "- **Zeißschiene** mit Reitern und Messvorrichtung\n",
    "- **Glühlampe** in Lampengehäuse mit zugehörigem Transformator\n",
    "- **Gitterspektrometer**\n",
    "  - Feststehendes Spaltrohr mit symmetrisch einstellbarem Spalt S am äußeren und Achromat L1 ($f=18\\,\\mathrm{cm}$, $D=17,5\\,\\mathrm{mm}$) am inneren Ende. Der Abstand SL1 ist etwa von $17,5\\,\\mathrm{cm}$ bis $18,5\\,\\mathrm{cm}$ einstellbar.\n",
    "  - Dreh- und arretierbarer Tisch mit Teilkreis $0°$ bis $360°$, $1°$-Teilung. Darauf justierbar bezüglich der Teilung der Halter für das Gitter G. Abstand L1G ca. $6\\,\\mathrm{cm}$.\n",
    "  - Fernrohr, schwenkbar um die Tischachse mit Nonius am Teilkreis des Tisches, Objektiv = Achromat L2 ($f=17\\,\\mathrm{cm}$, $D=17.5\\,\\mathrm{mm}$), Okular L3 ($8\\times$, $f=3\\,\\mathrm{cm}$, mit Fadenkreuz, verschiebbar im Fernrohrtubus), Abstand GL2 ca. $6\\,\\mathrm{cm}$.\n",
    "  - Das Fernrohr hat noch eine Feinverstellmöglichkeit bezüglich des Teilkreises. Die zugehörige Mikrometerschraube trägt eine zusätzliche Skala, die mit Hilfe des Nonius geeicht werden kann und die Messung von Winkeldifferenzen ermöglicht, die am Nonius direkt nicht mehr abgelesen werden können\n",
    "- **Gitter**: Gitterkopien (Kollodiumfolien o.ä.) zwischen Diagläsern.\n",
    "  - Nutzbare Breite ca. $36\\,\\mathrm{mm}$\n",
    "  - Nutzbare Höhe ca. $24\\,\\mathrm{mm}$\n",
    "  - Liniendichte ca. $140/\\mathrm{mm}$ und ca. $600/\\mathrm{mm}$\n",
    "- **Spiegel** (passend zum Gitterhalter)\n",
    "- **Spektrallampen (Na und Zn)**: Wechselstrombetriebene Niederdruck-Gasentladungslampen mit nur mäßiger Erwärmung, beidseitig Glühkathoden. Die Na-Lampe funktioniert (bis auf die fehlende Leuchtschicht und die andersartige Füllung) wie eine übliche Leuchtstoffröhre. Der Glimm-Bimetall-Zünder ist in den Lampenkolben integriert. Die Vorschaltdrossel befindet sich in einem Universal-Vorschaltgerät. (Lampe ansehen und diskutieren, falls noch nicht bekannt ist, wie das Zünden und Brennen einer Leuchtstoffröhre funktioniert.) Die Zn-Lampe ist anders aufgebaut. Sie enthält temperaturabhängige Widerstände.\n",
    "  - Wellenlängen-Mittelwert der beiden gelben Na-Linien: $λ_μ=589,3\\,\\mathrm{nm}$\n",
    "\n",
    "## Wichtige Hinweise"
   ]
  },
  {
   "cell_type": "markdown",
   "id": "3cb7ef3e-2308-4333-9d53-405235769fc7",
   "metadata": {},
   "source": [
    "## Durchführung\n",
    "\n",
    "### Aufgabe 0: Vorstudie\n",
    "\n",
    "Im Praktikum geht es auch um das Kennenlernen von unterschiedlichen Geräten als Handwerkszeug des Physikers. Für den ersten Versuchsteil steht Ihnen ein Stereo-Zoom-Mikroskop zur Verfügung, obwohl ein schlichtes, einäugiges Gerät für die Vermessung der Newtonschen Ringe ebenso gut geeignet wäre.\n",
    "\n",
    "- Machen Sie sich mit diesem Gerät vertraut.\n",
    "- Überzeugen Sie sich durch Zukneifen je eines Auges, das beide Augen ein leicht unterschiedliches, scharfes Bild eines Objektes sehen.\n",
    "- Beidäugig können Sie sich dann an Mikrostrukturen in 3D erfreuen.\n",
    "\n",
    "---"
   ]
  },
  {
   "cell_type": "markdown",
   "id": "dfa09405-94ac-4ea6-8b6a-8463d71dcff1",
   "metadata": {},
   "source": [
    "**Lösung:**\n",
    "\n",
    "*Sie können Ihr Protokoll direkt in dieses Dokument einfügen. Wenn Sie dieses Dokument als Grundlage für ein [Jupyter notebook](https://jupyter.org/) verwenden wollen können Sie die Auswertung, Skripte und ggf. bildliche Darstellungen mit Hilfe von [python](https://www.python.org/) ebenfalls hier einfügen. Löschen Sie hierzu diesen kursiv gestellten Text aus dem Dokument.* \n",
    "\n",
    "---"
   ]
  },
  {
   "cell_type": "markdown",
   "id": "af793a24-0bd5-4bcc-9c7a-9810f323e95d",
   "metadata": {},
   "source": [
    "### Aufgabe 1: Newtonsche Ringe\n",
    "\n",
    "#### Aufgabe 1.1\n",
    "\n",
    "**Bestimmen Sie den Krümmungsradius $R$ einer symmetrischen sphärischen Bikonvexlinse aus der Beobachtung Newtonscher Ringe.**\n",
    "\n",
    "Auf dem verschiebbaren Objekttisch des Mikroskops liegt ein planer Objektträger und darauf die Linse. Als Auflichtquelle dient eine einfarbige LED, die von vorne über einen Strahlteiler eingekoppelt wird. Reflexionen gibt es unter anderem an der unteren Linsenfläche (Glas-Luft-Übergang) und an der oberen Objektträgerfläche (Luft-Glas-Übergang). Je nach Länge des zusätzlichen Lichtweges $2d$ ergibt sich konstruktive oder destruktive Interferenz. Bei der Herleitung des Zusammenhanges zwischen Durchmesser $2r_k$ des $k$-ten dunklen Newtonringes, Wellenlänge $λ$ des benutzten Lichts, Brechungsindex $n_\\mathrm{L}$ der Luft ($n_\\mathrm{L}\\approx1$) und Krümmungsradius $R$ muss ein zusätzlicher Phasensprung um $\\pi$ bei der Reflexion am optisch dichteren Medium berücksichtigt werden.\n",
    "\n",
    "- Verifizieren Sie die Formel $$\\frac{r_k^2}{R} = \\frac{kλ}{n_\\mathrm{L}}.$$\n",
    "- Der Wert von $R$ soll aus der Steigung einer Regressionsgeraden durch viele Messpunkte (In manchen Fällen bis $k=30$, jedoch nicht in Einerschritten. Oft kann jedoch nur bis $k=20$ gemessen werden.) bestimmt werden, die nicht à priori als Ursprungsgerade anzunehmen ist. Es könnte ja Staub zwischen Linse und Objektträger geraten sein, oder die Linse könnte im Scheitel \"abgewetzt\" sein.\n",
    "- Führen Sie die Messung erst mit der gelben, dann mit der blauen LED durch.\n",
    "- Wieso spielen die übrigen Reflexionen keine Rolle für das Auftreten von Interferenzerscheinungen?\n",
    "- Welchen wesentlichen Nachteil hätte eine Durchlichtbeobachtung?\n",
    "\n",
    "---"
   ]
  },
  {
   "cell_type": "markdown",
   "id": "21599282-e22b-4409-b78b-3ded8f81bd15",
   "metadata": {},
   "source": [
    "**Lösung:**\n",
    "\n",
    "*Sie können Ihr Protokoll direkt in dieses Dokument einfügen. Wenn Sie dieses Dokument als Grundlage für ein [Jupyter notebook](https://jupyter.org/) verwenden wollen können Sie die Auswertung, Skripte und ggf. bildliche Darstellungen mit Hilfe von [python](https://www.python.org/) ebenfalls hier einfügen. Löschen Sie hierzu diesen kursiv gestellten Text aus dem Dokument.* \n",
    "\n",
    "---"
   ]
  },
  {
   "cell_type": "markdown",
   "id": "045a4144-5e57-48fe-a3e9-7643333a7869",
   "metadata": {},
   "source": [
    "#### Aufgabe 1.2\n",
    "\n",
    "**Bestimmen Sie den Brechungsindex von Wasser aus den veränderten Durchmessern der Newtonschen Ringe (gelbe LED), wenn sich zwischen Linse und Objektträger Wasser statt Luft befindet.**\n",
    "\n",
    "---"
   ]
  },
  {
   "cell_type": "markdown",
   "id": "2f4ee9ac-9fbb-4292-ba37-dddad9ea9db7",
   "metadata": {},
   "source": [
    "**Lösung:**\n",
    "\n",
    "*Sie können Ihr Protokoll direkt in dieses Dokument einfügen. Wenn Sie dieses Dokument als Grundlage für ein [Jupyter notebook](https://jupyter.org/) verwenden wollen können Sie die Auswertung, Skripte und ggf. bildliche Darstellungen mit Hilfe von [python](https://www.python.org/) ebenfalls hier einfügen. Löschen Sie hierzu diesen kursiv gestellten Text aus dem Dokument.* \n",
    "\n",
    "---"
   ]
  },
  {
   "cell_type": "markdown",
   "id": "f6d7f4bf-eee9-45a0-909e-04f3c7b54b58",
   "metadata": {},
   "source": [
    "#### Aufgabe 1.3\n",
    "\n",
    "**Bestimmen Sie die Brennweite $f$ der Linse durch Autokollimation.**\n",
    "\n",
    "Ein \"selbstleuchtender\" Gegenstand (eine beleuchtete Mattscheibe mit scharfen Schatten) wird vor der Linse so verschoben, dass er seitenverkehrt wieder scharf auf sich (d.h. auf der Mattscheibe) abgebildet wird, wenn hinter der Linse ein Planspiegel das Licht reflektiert. Dabei ist der Abstand Spiegel-Linse unwesentlich.\n",
    "\n",
    "---"
   ]
  },
  {
   "cell_type": "markdown",
   "id": "cea7b8a8-83e0-410e-8eef-ea526094076b",
   "metadata": {},
   "source": [
    "**Lösung:**\n",
    "\n",
    "*Sie können Ihr Protokoll direkt in dieses Dokument einfügen. Wenn Sie dieses Dokument als Grundlage für ein [Jupyter notebook](https://jupyter.org/) verwenden wollen können Sie die Auswertung, Skripte und ggf. bildliche Darstellungen mit Hilfe von [python](https://www.python.org/) ebenfalls hier einfügen. Löschen Sie hierzu diesen kursiv gestellten Text aus dem Dokument.* \n",
    "\n",
    "---"
   ]
  },
  {
   "cell_type": "markdown",
   "id": "1cec2085-a862-47a1-aff8-792372f4caa9",
   "metadata": {},
   "source": [
    "#### Aufgabe 1.4\n",
    "\n",
    "**Bestimmen Sie den Brechungsindex $n$ des Linsenglases aus $R$ und $f$.**\n",
    "\n",
    "- Die benötigte Formel $R=2\\cdot (n-1)\\cdot f$ sollte auf einfache Weise mit den Näherungen \"sehr dünne Linse\" und \"sehr achsennahe Strahlen\" verifiziert werden.\n",
    "\n",
    "---"
   ]
  },
  {
   "cell_type": "markdown",
   "id": "9190f504-dfa2-423d-9ca3-651d7c5310ce",
   "metadata": {},
   "source": [
    "**Lösung:**\n",
    "\n",
    "*Sie können Ihr Protokoll direkt in dieses Dokument einfügen. Wenn Sie dieses Dokument als Grundlage für ein [Jupyter notebook](https://jupyter.org/) verwenden wollen können Sie die Auswertung, Skripte und ggf. bildliche Darstellungen mit Hilfe von [python](https://www.python.org/) ebenfalls hier einfügen. Löschen Sie hierzu diesen kursiv gestellten Text aus dem Dokument.* \n",
    "\n",
    "---"
   ]
  },
  {
   "cell_type": "markdown",
   "id": "12300847-62f2-4d83-8cb8-1eced9707146",
   "metadata": {},
   "source": [
    "### Aufgabe 2: Beugung am Gitter\n",
    "\n",
    "#### Aufgabe 2.1\n",
    "\n",
    "**Justieren Sie das Gitterspektrometer.**\n",
    "\n",
    "1. Stellen Sie die Brennweite (Okular verschieben) des Fernrohres auf \"Unendlich\", indem Sie einen weit entfernten Gegenstand scharf einstellen. Bei richtiger Einstellung darf bei Kopfbewegung keine Verschiebung (Parallaxe) von einem beobachteten Detail und dem Fadenkreuz zu sehen sein. Normalsichtige beobachten mit entspanntem (d.h. auf \"Unendlich\" gerichtetem) Auge. Kurzsichtige können Parallellicht nicht auf die Netzhaut fokussieren und benötigen (ohne Kontaktlinse oder Brille) eine etwas abweichende Einstellung.\n",
    "2. Beleuchten Sie den Spalt mit der Natriumdampflampe. Überlegen Sie, ob ein Kondensor (Abbildung der Lichtquelle in die Apparatur) von Vorteil sein kann. Beobachten Sie den schmal eingestellten Spalt durch das Fernrohr. Stellen Sie ihn durch Verschieben des Spaltes scharf ein und bringen Sie ihn dann durch Schwenken des Fernrohres mit dem Fadenkreuz zur Deckung. Stellen Sie den Spektrometertisch mit Teilkreis geeignet ein (Nullstellung) und arretieren Sie ihn. Setzen Sie dann den Spiegel in den Gitterhalter ein (Spalt weit geöffnet). Stellen Sie zwischen Spalt und Lampe einen Objektträger so unter $45°$ gegen die Achse auf, dass von der Seite her über diesen \"Strahlteiler\" das vom Spiegel reflektierte Licht sichtbar wird, falls es durch den Spalt zurücktrifft. Der Spiegel (und damit der Gitterhalter) ist also senkrecht zur Achse justiert (Justierung am Rändelrand des Gitterhalters). Stellen Sie dann den Spalt wieder schmal ein. Tauschen Sie schließlich den Spiegel gegen das Gitter aus.\n",
    "\n",
    "---"
   ]
  },
  {
   "cell_type": "markdown",
   "id": "7af00b9c-7ac4-440d-93a6-0cfddbf5c961",
   "metadata": {},
   "source": [
    "**Lösung:**\n",
    "\n",
    "*Sie können Ihr Protokoll direkt in dieses Dokument einfügen. Wenn Sie dieses Dokument als Grundlage für ein [Jupyter notebook](https://jupyter.org/) verwenden wollen können Sie die Auswertung, Skripte und ggf. bildliche Darstellungen mit Hilfe von [python](https://www.python.org/) ebenfalls hier einfügen. Löschen Sie hierzu diesen kursiv gestellten Text aus dem Dokument.* \n",
    "\n",
    "---"
   ]
  },
  {
   "cell_type": "markdown",
   "id": "7e98c85d-ca9b-4d50-a88f-1cc511dcf51c",
   "metadata": {},
   "source": [
    "#### Aufgabe 2.2\n",
    "\n",
    "**Bestimmen Sie die Gitterkonstante eines Gitters.**\n",
    "\n",
    "Das Gitter ist nur mit \"Gitter\" bezeichnet. Es hat etwa 600 Striche pro Millimeter. Das Öffnungsverhältnis des Gitters ist mit $b/g\\approx0,9$ sehr groß. Damit wird erreicht, dass die Spaltbreite noch nicht in die Gegend von $λ/2$ kommt. Die Breite des Gitters ist genügend groß, um den ganzen Querschnitt des Parallellichtbündels im Spektrometer auszunutzen. Zur Messung wird das gelbe Licht einer Natriumdampflampe verwendet. Nur die mittlere Wellenlänge der Doppellinie sei bekannt. (Der Abstand der beiden Linien beträgt etwa einen halben Nanometer. Er soll in der nächsten Aufgabe genauer bestimmt werden.)\n",
    "\n",
    "- Überlegen Sie sich schon bei der Vorbereitung:\n",
    "  - Unter welchen Winkeln sind etwa Maxima (Hauptmaxima) zu erwarten?\n",
    "  - Sind diese vielleicht durch Minima der Interferenzfigur des Einzelspaltes ausgelöscht?\n",
    "  - Wie breit sind die Maxima etwa?\n",
    "  - Welches Intensitätsverhältnis haben die Maxima?\n",
    "  - Wie gut ist das theoretische Auflösungsvermögen?\n",
    "  - Wie schmal wäre der Spalt einzustellen um dieses zu nutzen?\n",
    "  - Ist die Doppellinie getrennt beobachtbar und ihr Abstand messbar?\n",
    "  \n",
    "---"
   ]
  },
  {
   "cell_type": "markdown",
   "id": "1fff2244-01db-45ca-96a4-96c8b0e3724f",
   "metadata": {},
   "source": [
    "**Lösung:**\n",
    "\n",
    "*Sie können Ihr Protokoll direkt in dieses Dokument einfügen. Wenn Sie dieses Dokument als Grundlage für ein [Jupyter notebook](https://jupyter.org/) verwenden wollen können Sie die Auswertung, Skripte und ggf. bildliche Darstellungen mit Hilfe von [python](https://www.python.org/) ebenfalls hier einfügen. Löschen Sie hierzu diesen kursiv gestellten Text aus dem Dokument.* \n",
    "\n",
    "---"
   ]
  },
  {
   "cell_type": "markdown",
   "id": "0b3cb79c-2146-4afd-a80c-5f5a6e8772bb",
   "metadata": {},
   "source": [
    "#### Aufgabe 2.3\n",
    "\n",
    "**Bestimmen Sie den Wellenlängenabstand der gelben Na-Linien.**\n",
    "\n",
    "Verwendet wird das Gitter von Aufgabe 2.2. Zur Messung wird die zu eichende Feinverstellung mit Skala am Spektrometer benutzt.\n",
    "\n",
    "---"
   ]
  },
  {
   "cell_type": "markdown",
   "id": "3e2baade-f4ae-428e-94d4-6a54d4618e46",
   "metadata": {},
   "source": [
    "**Lösung:**\n",
    "\n",
    "*Sie können Ihr Protokoll direkt in dieses Dokument einfügen. Wenn Sie dieses Dokument als Grundlage für ein [Jupyter notebook](https://jupyter.org/) verwenden wollen können Sie die Auswertung, Skripte und ggf. bildliche Darstellungen mit Hilfe von [python](https://www.python.org/) ebenfalls hier einfügen. Löschen Sie hierzu diesen kursiv gestellten Text aus dem Dokument.* \n",
    "\n",
    "---"
   ]
  },
  {
   "cell_type": "markdown",
   "id": "aa0fdc9d-92b6-434d-902a-e7a0818edab6",
   "metadata": {},
   "source": [
    "#### Aufgabe 2.4\n",
    "\n",
    "**Bestimmen Sie die Gitterkonstante eines zweiten Gitters.**\n",
    "\n",
    "Das Gitter ist mit dem Grobwert $140/\\mathrm{mm}$ für die Strichdichte bezeichnet. Details der Gitterstruktur sind nicht bekannt. Es kann jedenfalls bis zu hohen Ordnungen (etwa 6) mit monoton abnehmender Intensität in jeder Ordnung beobachtet werden.\n",
    "\n",
    "- Wundern Siesich auch darüber? Haben Sie eine Erklärung?\n",
    "- Als Lichtquelle dient wieder die Natriumdampflampe. Von welcher Ordnung ab ist die Na-Doppellinie getrennt beobachtbar?\n",
    "- Entspricht das dem theoretischen Auflösungsvermögen?\n",
    "\n",
    "---"
   ]
  },
  {
   "cell_type": "markdown",
   "id": "8c1a184d-6b0f-4aaa-a9e1-aa4287523f02",
   "metadata": {},
   "source": [
    "**Lösung:**\n",
    "\n",
    "*Sie können Ihr Protokoll direkt in dieses Dokument einfügen. Wenn Sie dieses Dokument als Grundlage für ein [Jupyter notebook](https://jupyter.org/) verwenden wollen können Sie die Auswertung, Skripte und ggf. bildliche Darstellungen mit Hilfe von [python](https://www.python.org/) ebenfalls hier einfügen. Löschen Sie hierzu diesen kursiv gestellten Text aus dem Dokument.* \n",
    "\n",
    "---"
   ]
  },
  {
   "cell_type": "markdown",
   "id": "b1367bf8-7e56-4457-9abf-6733b40a008f",
   "metadata": {},
   "source": [
    "#### Aufgabe 2.5\n",
    "\n",
    "**Messen Sie möglichst genau die Wellenlängen der vier deutlichen Linien einer Zn-Spektrallampe.**\n",
    "\n",
    "Die Farben sind violettblau, blau, blaugrün und rot.\n",
    "\n",
    "- Begründen Sie Ihre Wahl der Mittel und der Methode.\n",
    "\n",
    "---"
   ]
  },
  {
   "cell_type": "markdown",
   "id": "d34a1067-f4b5-4c35-8efb-ab66123dd0a7",
   "metadata": {},
   "source": [
    "**Lösung:**\n",
    "\n",
    "*Sie können Ihr Protokoll direkt in dieses Dokument einfügen. Wenn Sie dieses Dokument als Grundlage für ein [Jupyter notebook](https://jupyter.org/) verwenden wollen können Sie die Auswertung, Skripte und ggf. bildliche Darstellungen mit Hilfe von [python](https://www.python.org/) ebenfalls hier einfügen. Löschen Sie hierzu diesen kursiv gestellten Text aus dem Dokument.* "
   ]
  }
 ],
 "metadata": {
  "kernelspec": {
   "display_name": "Python 3 (ipykernel)",
   "language": "python",
   "name": "python3"
  },
  "language_info": {
   "codemirror_mode": {
    "name": "ipython",
    "version": 3
   },
   "file_extension": ".py",
   "mimetype": "text/x-python",
   "name": "python",
   "nbconvert_exporter": "python",
   "pygments_lexer": "ipython3",
   "version": "3.10.6"
  }
 },
 "nbformat": 4,
 "nbformat_minor": 5
}
