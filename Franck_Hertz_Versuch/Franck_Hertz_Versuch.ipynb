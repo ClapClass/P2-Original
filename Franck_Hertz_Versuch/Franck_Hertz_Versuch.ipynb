{
 "cells": [
  {
   "cell_type": "markdown",
   "id": "4a5ce289-f376-4c7c-bc57-3914f11d0bae",
   "metadata": {},
   "source": [
    "<img src=\"./figures/Logo_KIT.svg\" width=\"250\" height=\"250\" style=\"zoom:15%;float:right;\" />\n",
    "\n",
    "# Fakultät für Physik \n",
    "\n",
    "## Physikalisches Praktikum P2 für Studierende der Physik\n",
    "\n",
    "\n",
    "\n",
    "Versuch P2-53, 54, 55 (Stand: April 2023)\n",
    "\n",
    "[Raum F1-08](http://www-ekp.physik.uni-karlsruhe.de/~simonis/praktikum/layoutobjekte/Lageplan_P1.png)"
   ]
  },
  {
   "cell_type": "markdown",
   "id": "09db31e4-ca5c-4f37-a862-38ee25ed35fd",
   "metadata": {},
   "source": [
    "<br>\n",
    "Name: __________________ Vorname: __________________\n",
    "<br>\n",
    "<br>\n",
    "Name: __________________ Vorname: __________________\n",
    "<br>\n",
    "<br>\n",
    "<br>\n",
    "Gruppennummer: _____\n",
    "<br>\n",
    "<br>\n",
    "<br>\n",
    "Betreuer: __________________\n",
    "<br>\n",
    "<br>\n",
    "<br>\n",
    "Versuch durchgeführt am: __________________"
   ]
  },
  {
   "cell_type": "markdown",
   "id": "a2e9817b-3d5f-456f-af44-b61266182d93",
   "metadata": {},
   "source": [
    "---\n",
    "\n",
    "**Beanstandungen:**\n",
    "\n",
    "<br>\n",
    "<br>\n",
    "<br>\n",
    "<br>\n",
    "<br>\n",
    "<br>\n",
    "<br>\n",
    "<br>\n",
    "<br>\n",
    "<br>\n",
    "Testiert am: __________________ Vermerk: __________________"
   ]
  },
  {
   "cell_type": "markdown",
   "id": "0400aee5-e12a-4146-a7cf-d95d4906ceb0",
   "metadata": {},
   "source": [
    "# Franck-Hertz-Versuch\n",
    "\n",
    "\n",
    "\n",
    "## Motivation\n",
    "\n",
    "Zwischen 1912–14 führten [James Franck](https://de.wikipedia.org/wiki/James_Franck) und [Gustav Hertz](https://de.wikipedia.org/wiki/Gustav_Hertz) Versuche zur Untersuchung der Ionisationsenergie einatomiger Gase mit Hilfe von [Röhrendioden](https://de.wikipedia.org/wiki/R%C3%B6hrendiode) durch, die sie kontrolliert mit Quecksilbergas ($\\mathrm{Hg}$) befüllten. Damals war über die diskreten Energieniveaus im Atom nichts bekannt. Es bestand die verbreitete Ansicht, dass Ionisation die einzige Form sei, in der Atome außer durch elastische Stöße Energie aufnehmen könnten. Die Energieaufnahme einatomiger Gase konnte jedoch durch die anerkannte Theorie der [Gasentladung](https://de.wikipedia.org/wiki/Gasentladung) nicht beschrieben werden, worin für Franck und Hertz die Motivation ihrer Versuche bestand. Der letzte in einer Reihe von Versuchen ging als [Franck-Hertz-Versuch](https://de.wikipedia.org/wiki/Franck-Hertz-Versuch) in die Geschichte der Quantenphysik ein und führte zur Verleihung des Physik-Nobelpreises 1925. Franck und Hertz führten diese Versuche nicht durch, um das 1913 durch Niels Bohr entwickelte [Bohrsche Atommodell](https://de.wikipedia.org/wiki/Bohrsches_Atommodell) zu bestätigen, das zu dieser Zeit noch wenig bekannt war. Tatsächlich, gingen beide bis 1917 noch davon aus, das die von ihnen beobachteten Effekte auf die Rekombination ionisierter $\\mathrm{Hg}$-Atome zurückzuführen seien. \n",
    "\n",
    "Damals war durch mehrere Experimente bekannt, dass Atome nur mit diskreten Lichtquanten in Wechselwirkung traten. Es war jedoch nicht klar, ob dieses Phänomen nicht eine Eigenschaft nur des Lichts sei. Mit dem Franck-Hertz-Versuch konnte die von Niels Bohr postulierte quantisierte Aufnahme von Energie im Atom auch in Stößen von Atomen mit Elektronen nachgewiesen und die anschließende Energieabgabe durch Lichtquanten gleicher Energie beobachtet werden. Der Franck-Herz-Versuch trug so entscheidend zum Durchbruch und zur Entwicklung der Quantenphysik und unserer heutigen Vorstellung des Atoms im Rahmen der Quantenmechanik bei. Im P2-Praktikum haben Sie die Möglichkeit diesen historischen Versuch selbst durchzuführen.  \n",
    "\n",
    "## Lernziele\n",
    "\n",
    "Wir listen im Folgenden die wichtigsten **Lernziele** auf, die wir Ihnen mit dem **Franck-Hertz-Versuch** vermitteln möchten: \n",
    "\n",
    "- Sie experimentieren mit dem Oszilloskop und nehmen in verschiedenen Betriebsmoden Daten auf.\n",
    "- Sie führen einen historischen Versuch der Quantenphysik eigenhändig durch. Sie haben dabei die Chance sich mit den Feinheiten dieses Versuchs eingehend vertraut zu machen.\n",
    "- Sie beschäftigen sich mit dem Zusammenhang zwischen dem temperaturabhängigen Dampfdruck von $\\mathrm{Hg}$ und der [mittleren freien Weglänge](https://de.wikipedia.org/wiki/Mittlere_freie_Wegl%C3%A4nge) in einer evakuierten Röhre (die Vorbereitungshilfe ist in diesem Punkt sehr detailliert.) \n",
    "- Sie untersuchen, wie mit einfachen Mitteln die elektrischen Felder, die den Weg elektrischer Ladungen bestimmen, manipuliert werden können und betreiben den Versuch in verschiedenen Konfigurationen.\n",
    "- Sie beobachten den Effekt der Anregung von $\\mathrm{Hg}$ und Neon ($\\mathrm{Ne}$) sowohl im Auffängerstrom der Röhre (siehe Abschnitt Versuchsaufbau), als auch als sichtbares Licht, dessen Emission Sie qualitativ untersuchen. \n",
    "- Sie schätzen die Energie des niedrigsten beobachtbaren Übergangs im $\\mathrm{Hg}$-Atom quantitativ ab und untersuchen Sie durch geschicktes Experimentieren die Überlagerung mit Übergängen in höhere Anregungszustände."
   ]
  },
  {
   "cell_type": "markdown",
   "id": "750e28f2-67e9-4313-b54f-9427c23226c8",
   "metadata": {},
   "source": [
    "## Versuchsaufbau\n",
    "\n",
    "Der grundsätzliche Aufbau der im P2 Praktikum verwendeten Franck-Hertz-[Tetroden](https://de.wikipedia.org/wiki/Elektronenr%C3%B6hre#Tetrode) ist im folgenden Bild gezeigt:   \n",
    "\n",
    "<img src=\"./figures/FranckHertzSkizze.png\" height=\"700\" width=\"700\" style=\"zoom:80%;\" />\n",
    "\n",
    "Auf der linken Seite der Zeichnung befindet sich eine Glühkathode (K, im Bild nicht näher bezeichnet). In geringem Abstand zu K  befindet sich das *grobmaschige* Raumladungsgitter G1 (im Bild mit g1 bezeichnet; auch [Steuergitter](https://de.wikipedia.org/wiki/Steuergitter) genannt), mit dessen Hilfe Sie den Strom der freien Elektronen beeinflussen können. Zwischen K und G1 liegt die Spannung $U_{1}$ an. Das *feinmaschige* Beschleunigungsgitter G2 (im Bild mit g2 bezeichnet; auch [Schirmgitter](https://de.wikipedia.org/wiki/Schirmgitter) genannt) fungiert als Anode. Zwischen G1 und G2 liegt die Beschleunigungsspannung $U_{\\mathrm{B}}=U_{2}$ an. In wiederum geringem Abstand zu G2 befindet sich die Auffängerelektrode A. Zwischen G2 und A befindet sich die Gegenspannung $U_{3}$. \n",
    "\n",
    "Aus K treten Elektronen aus und werden auf G1 zu beschleunigt. Wegen des geringen Abstands zwischen K und G1 kommt es hier nur sehr selten zu Stößen der Elektronen mit den Atomen des $\\mathrm{Hg}$-Gases. Während einige Elektronen auf G1 aufschlagen und zu K zurückgeführt werden, durchdringen die meisten die Maschen von G1 und werden auf G2 zu beschleunigt. Auf diesem deutlich längeren Weg kommt es sowohl zu **elastischen** als auch zu **unelastischen** Stößen der Elektronen mit den Atomen des $\\mathrm{Hg}$-Gases. Der Dampfdruck des $\\mathrm{Hg}$-Gases lässt sich dabei so einstellen, dass die Elektronen kaum Energie durch elastische Stöße verlieren (siehe Vorbereitungshilfe). Die meisten Elektronen treffen daraufhin auf G2 auf und erzeugen dort einen messbaren **Anodenstrom**. Einige Elektronen treten jedoch auch durch die Maschen von G2 und werden daraufhin durch das elektrische Feld zwischen G2 und A in Gegenrichtung beschleunigt. Je nach Konfiguration aus $U_{1}$, $U_{2}$ und $U_{3}$ werden die Elektronen wieder zu G2 zurück beschleunigt, oder sie erreichen A. Dort können sie mit Hilfe eines Operationsverstärkers über den Spannungsabfall ($U_{\\mathrm{A}}$) an einem hochohmigen Widerstand als **Auffängerstrom** ($I_{\\mathrm{A}}$) nachgewiesen werden. \n",
    "\n",
    "Unter [diesem Link](https://www.kippenbergs.de/mint-franckhertz) können Sie eine Simulation des Wegs der Elektronen durch eine etwas einfachere Franck-Hertz-[Triode](https://de.wikipedia.org/wiki/Elektronenr%C3%B6hre#Triode) beobachten. \n",
    "\n",
    "Für die verschiedenen Versuchsteile stehen Ihnen die folgenden Geräte zur Verfügung: \n",
    "\n",
    "- Eine koaxiale Franck-Hertz-[Tetrode](https://de.wikipedia.org/wiki/Elektronenr%C3%B6hre#Tetrode) mit einem Tropfen $\\mathrm{Hg}$ im Innern. Die Tetrode befindet sich in einem Heizofen mit einstellbarem Thermostat, Sichtfenstern, $\\mathrm{NiCr}$-$\\mathrm{Ni}$ Temperaturfühler, Schutzwiderständen und Anschlussbuchsen.\n",
    "  - Der max. erlaubte Heizstrom der indirekt geheizten $\\mathrm{BaO}$-Kathode (K) beträgt $0,4\\,\\mathrm{A}$. \n",
    "  - Der Abstand K-G1 beträgt $\\approx0,5\\,\\mathrm{mm}$. \n",
    "  - Der Abstand K-G2 beträgt $\\approx6\\,\\mathrm{mm}$.\n",
    "\n",
    "- Hinweise für das Gerät zum Betrieb der Franck-Hertz-$\\mathrm{Hg}$-Röhre: \n",
    "  - Der erlaubte Grenzwert der Heizspannung für K beträgt $6,4\\,\\mathrm{V}$; \n",
    "  - Die Gleichspannung $U_{1}$ ist bis auf $5\\,\\mathrm{V}$ regelbar. Der Minuspol ist mit einem Pol der Heizstromquelle für K verbunden (siehe Bild); \n",
    "  - Für $U_{\\mathrm{B}}=U_{2}$ können Sie zwischen drei Einstellungen wählen: Einer einstellbaren Gleichspannung, einer linearen Rampe oder einer Sägezahnspannung jeweils mit Werten von $0-30\\,\\mathrm{V}$; \n",
    "  - Für $U_{3}$ können Sie eine Spannung bis $-10\\,\\mathrm{V}$ einstellen. \n",
    "  - Am Gerät befinden sich Ausgabebuchsen für $U_{\\mathrm{B}}/10$ und $U_{\\mathrm{A}}$. Die Spannung $U_{\\mathrm{A}}$ wird von einem Operationsverstärker ausgegeben und ist proportional zu $I_{\\mathrm{A}}$. Es gilt: $1\\,\\mathrm{V} \\approx1\\,\\mathrm{nA}$.\n",
    "\n",
    "- Ein USB-Oszilloskop (Picoscope) mit Computer.\n",
    "- Ein Multimeter.\n",
    "- Ein Taschenspektroskop mit Stativ.\n",
    "- Eine Franck-Hertz-Tetrode mit $\\mathrm{Ne}$-Füllung, Lichtschutzgehäuse, Sichtfenster, Sockelplatte mit Anschlussbuchsen und $10\\,\\mathrm{k\\Omega}$-Schutzwiderstand in der Anodenleitung. \n",
    "  - Der maximale Anodenstrom für die Franck-Hertz-$\\mathrm{Ne}$-Röhre beträgt $5\\,\\mathrm{\\mu A}$. \n",
    "  - Die Elektroden sind planparallel und der Abstand zwischen Kathode und Anode beträgt $\\approx7\\,\\mathrm{mm}$. \n",
    "  - Die Franck-Hertz-$\\mathrm{Ne}$-Röhre wird mit Hilfe von zwei Betriebsgeräten angesteuert. \n",
    "\n",
    "- Hinweise für das **erste Gerät** zum Betrieb der Franck-Hertz-$\\mathrm{Ne}$-Röhre:\n",
    "  - Hiermit steuern Sie den regelbaren Heizstrom. \n",
    "  - Für $U_{\\mathrm{B}}$ können Sie wahlweise eine Gleich- oder Sägezahnspannung bis zu $70\\,\\mathrm{V}$ einstellen. \n",
    "  - Zudem können Sie eine Sägezahnspannung für die $x$-Ablenkung des Oszillographen separat einstellen. \n",
    "  - Ebenso wird der Verstärker für die Messung von  $I_{\\mathrm{A}}$ über dieses Gerät angesteuert.\n",
    "\n",
    "- Hinweise für das **zweite Gerät** zum Betrieb der Franck-Hertz-$\\mathrm{Ne}$-Röhre: \n",
    "  - Hiermit stellen Sie eine feste Gleichspannung ($U_{1}$) für G1 bereit; \n",
    "  - Für $U_{3}$ lässt sich eine Gleichspannung bis zu $10\\,\\mathrm{V}$ einstellen.\n",
    "\n",
    "\n",
    "## Wichtige Hinweise\n",
    "\n",
    "- Für die oszillographische Darstellung von $I_{\\mathrm{A}}$ wird eine periodische Beschleunigungsspannung benötigt. Diese darf man aber nicht zu schnell ändern, da sich ein **stationärer Zustand in der Röhre** nur relativ langsam einstellt. Langsame Vorgänge sind z.B. die Bewegung und Rekombination der Ionen, sowie die Rückkehr von angeregten Zuständen in den Grundzustand, wenn diese optisch verboten sind. Das Betriebsgerät stellt eine periodische Sägezahnspannung zwischen $0-30\\,\\mathrm{V}$ zur Verfügung. Die Oszillographennutzung in diesem Modus empfiehlt sich zum Kennenlernen der Apparatur und beim Einstellen von Temperatur, $U_{1}$ und $U_{3}$. Um die Verhältnisse im quasi-stationären Zustand aufzuzeichnen, wird das Speicheroszilloskop mit der (langsamen) linearen Rampe oder per Hand als \"Einmalvorgang\" ausgelöst. Der Unterschied zu der sich wiederholenden Darstellung mit Hilfe der Sägezahnspannung wird in diesem Fall deutlich sichtbar. Die Daten ($U$-$I$-Wertepaare) können auf dem Rechner abgespeichert und anschließend analysiert werden.\n",
    "- Der Heizofen für die Franck-Hertz-$\\mathrm{Hg}$-Röhre ist mit einem $\\mathrm{NiCr}$-$\\mathrm{Ni}$ Temperaturfühler und mit einem Thermostaten ausgestattet. Bei Erreichen der Solltemperatur leuchtet die Leuchtdiode am Betriebsgerät grün. Der Ofen ist nicht geeignet, die Röhre homogen zu beheizen. Man kann beobachten, dass das $\\mathrm{Hg}$ bevorzugt in bestimmten Bereichen der Glaswand kondensiert. Für den Dampfdruck ist die kälteste Stelle maßgebend. Ihre Temperatur kann von der des Temperaturfühlers geringfügig abweichen, auch wenn der empfindliche Teil des Temperaturfühlers sich im Ofen auf gleicher Höhe befindet.\n",
    "- Eine weitere Konsequenz der nicht homogenen Beheizung der Franck-Hertz-$\\mathrm{Hg}$-Röhre ist, dass es zu Ablagerungen von $\\mathrm{Hg}$ an den Glaswänden kommen kann, wenn der Versuchsaufbau längere Zeit nicht in Betrieb ist. Kontinuierliche Ausgasungen von den Wänden der Röhre können gerade zu Beginn des Praktikumsbetriebs zu veränderlichem $\\mathrm{Hg}$-Dampfdruck in der Röhre führen. Es empfiehlt sich daher die Röhre bereits einige Tage vor Beginn des Praktikumsbetriebs auszuheizen.  \n"
   ]
  },
  {
   "cell_type": "markdown",
   "id": "f0726035-9c5e-452e-99c4-9e9c0a336e23",
   "metadata": {},
   "source": [
    "## Durchführung\n",
    "\n",
    "### Aufgabe 1.1: Aufbau\n",
    "\n",
    "Bauen Sie die Schaltung der Franck-Hertz-$\\mathrm{Hg}$-Röhre mit dem zugehörigen Betriebsgerät auf. Diskutieren Sie die Schaltung in allen wesentlichen Einzelheiten. Für die Beschleunigungsspannung an der Anode können Sie zwischen drei Einstellungen jeweils für $U_{\\mathrm{B}} = 0-30\\,\\mathrm{V}$ wählen: \n",
    "\n",
    "- Sägezahnspannung zur oszillographischen Aufnahme von $I_{\\mathrm{A}}$; \n",
    "- Lineare Rampe für die Aufzeichnung der Kurve als \"Einmalereignis\" mit dem Speicheroszillographen; oder \n",
    "- Eine über ein Potentiometer einstellbare Gleichspannung für eine punktweise Aufnahme von $I_{\\mathrm{A}}$. \n",
    "\n",
    "Die im Schaltplan eingezeichneten Widerstände zwischen den Röhrenelektroden und ihren Anschlussbuchsen sind im Heizofengehäuse fest eingebaut.\n",
    "\n",
    "---"
   ]
  },
  {
   "cell_type": "markdown",
   "id": "621733a4-c489-4256-9df0-e46b6d9eb235",
   "metadata": {},
   "source": [
    "**Lösung:**\n",
    "\n",
    "*Sie können Ihr Protokoll direkt in dieses Dokument einfügen. Wenn Sie dieses Dokument als Grundlage für ein [Jupyter notebook](https://jupyter.org/) verwenden wollen können Sie die Auswertung, Skripte und ggf. bildliche Darstellungen mit Hilfe von [python](https://www.python.org/) ebenfalls hier einfügen. Löschen Sie hierzu diesen kursiv gestellten Text aus dem Dokument.* \n",
    "\n",
    "---"
   ]
  },
  {
   "cell_type": "markdown",
   "id": "7553a19b-9625-42f7-ad91-1dea7f45c777",
   "metadata": {},
   "source": [
    "### Aufgabe 1.2: Niedrigste beobachtbare Anregung von $\\mathrm{Hg}$ durch Elektronenstoß\n",
    "\n",
    "Schätzen Sie die Energie für die niedrigste beobachtbare Anregung von $\\mathrm{Hg}$ durch Elektronenstoß ab. Bestimmen Sie außerdem die Größe der Kontaktspannung zwischen K und G2. Gehen Sie dabei wie folgt vor:\n",
    "\n",
    "- Schalten Sie die Kathodenheizung ein —lassen Sie sie eingeschaltet, solange die Röhre heiß ist!— und heizen Sie dann mit der Ofenheizung die Röhre auf $\\approx160^{\\circ}\\mathrm{C}$ auf. Die Kontrollleuchte wird grün, sobald die Solltemperatur erreicht worden ist. Vermeiden Sie, die Röhre jemals über $190^{\\circ}\\mathrm{C}$ zu erhitzen. \n",
    "- Ermitteln Sie durch oszillographische Beobachtung bei verschiedenen Temperaturen (z.B. $160,\\,150,\\,140,\\,120^{\\circ}\\mathrm{C}$) die günstigsten Betriebsbedingungen von Kathodenheizung, $U_{1}$ und $U_{3}$. \n",
    "  - Diskutieren Sie (qualitativ) den Einfluss dieser Parameter auf die Form von $I_{\\mathrm{A}}$. \n",
    "  - Nehmen Sie jeweils das beste Ergebnis für $I_{\\mathrm{A}}$ mit Hilfe des Speicheroszilloskops auf. Beachten Sie die Unterschiede zwischen den Bildern bei durchlaufender Rampe und beim \"Einmalvorgang\". \n",
    "- Diskutieren Sie das Zustandekommen der typischen Franck-Hertz-Kurve für $I_{\\mathrm{A}}$. \n",
    "- Bestimmen Sie aus den aufgezeichneten Daten die Energie für die niedrigste beobachtbare Anregung von $\\mathrm{Hg}$ durch Elektronenstoß. Beachten Sie hierzu die Eichung der $x$-Achse!\n",
    "\n",
    "---"
   ]
  },
  {
   "cell_type": "markdown",
   "id": "e134e783-36ad-4834-a1e8-a0a7dd888c1c",
   "metadata": {},
   "source": [
    "**Lösung:**\n",
    "\n",
    "*Sie können Ihr Protokoll direkt in dieses Dokument einfügen. Wenn Sie dieses Dokument als Grundlage für ein [Jupyter notebook](https://jupyter.org/) verwenden wollen können Sie die Auswertung, Skripte und ggf. bildliche Darstellungen mit Hilfe von [python](https://www.python.org/) ebenfalls hier einfügen. Löschen Sie hierzu diesen kursiv gestellten Text aus dem Dokument.* \n",
    "\n",
    "---"
   ]
  },
  {
   "cell_type": "markdown",
   "id": "51314eff-f682-46e3-8fa1-e02b83738373",
   "metadata": {},
   "source": [
    "### Aufgabe 1.3: Aufnahme der Anodenstromkurve\n",
    "\n",
    "Nehmen Sie bei $\\approx150^{\\circ}\\mathrm{C}$ mit Hilfe eines empfindlichen Strommessinstruments in der Anodenleitung den Anodenstrom $I_{G_{2}}$ als Funktion von $U_{2}$ auf. Überprüfen Sie durch geeignete Auftragung die (aus dem [Raumladungsgesetz](https://de.wikipedia.org/wiki/Raumladungsgesetz)) erwartete $U^{3/2}$-Abhängigkeit. Diskutieren Sie warum $I_{G_{2}}(U_{2})$ keinerlei \"Franck-Hertz-Form\" aufweist?\n",
    "\n",
    "---"
   ]
  },
  {
   "cell_type": "markdown",
   "id": "8604012b-e8f0-4688-a4e6-a2dc927caae7",
   "metadata": {},
   "source": [
    "**Lösung:**\n",
    "\n",
    "*Sie können Ihr Protokoll direkt in dieses Dokument einfügen. Wenn Sie dieses Dokument als Grundlage für ein [Jupyter notebook](https://jupyter.org/) verwenden wollen können Sie die Auswertung, Skripte und ggf. bildliche Darstellungen mit Hilfe von [python](https://www.python.org/) ebenfalls hier einfügen. Löschen Sie hierzu diesen kursiv gestellten Text aus dem Dokument.* \n",
    "\n",
    "---"
   ]
  },
  {
   "cell_type": "markdown",
   "id": "4166d7d8-03fa-467f-9a2d-a2175f286d93",
   "metadata": {},
   "source": [
    "### Aufgabe 1.4: Ionisierungsarbeit von $\\mathrm{Hg}$\n",
    "\n",
    "Bestimmen Sie aus $I_{G_{2}}(U_{2})$ die Ionisierungsarbeit von $\\mathrm{Hg}$ auf zwei Arten:\n",
    "\n",
    "1. Messen Sie mit dem Multimeter $I_{G_{2}}(U_{2})$; und\n",
    "2. Stellen Sie den Auffängerstrom mit Hilfe des Oszillographen dar.\n",
    "\n",
    "Stellen Sie hierzu für Stoßionisation günstige Betriebsbedingungen ein. Um deutliche Effekte zu erhalten, müssen Sie **G1 als Anode verwenden**: Setzen hierzu G1 auf das gleiche Potential wie G2. Die Beschleunigungsspannung ist dann $U_{1} + U_{2}$. Verwenden Sie die gleiche Schaltung später für Aufgabe 2.\n",
    "\n",
    "---"
   ]
  },
  {
   "cell_type": "markdown",
   "id": "c9588856-e1b1-47ab-9208-b30ec2ed354a",
   "metadata": {},
   "source": [
    "**Lösung:**\n",
    "\n",
    "*Sie können Ihr Protokoll direkt in dieses Dokument einfügen. Wenn Sie dieses Dokument als Grundlage für ein [Jupyter notebook](https://jupyter.org/) verwenden wollen können Sie die Auswertung, Skripte und ggf. bildliche Darstellungen mit Hilfe von [python](https://www.python.org/) ebenfalls hier einfügen. Löschen Sie hierzu diesen kursiv gestellten Text aus dem Dokument.* \n",
    "\n",
    "---"
   ]
  },
  {
   "cell_type": "markdown",
   "id": "7e13d3e4-e568-4b03-88c6-a616560dbd85",
   "metadata": {},
   "source": [
    "### Aufgabe 1.5: Emissionslinien bei brennender Gasentladung\n",
    "\n",
    "Beobachten Sie mit einem Taschenspektroskop die im Bereich des sichtbaren Lichts liegenden Emissionslinien bei brennender Gasentladung. Lassen Sie hierzu eine ständige Gasentladung zünden. Es besteht dabei keine Gefahr für die Apparatur, der $10\\,\\mathrm{k\\Omega}$-Widerstand in der Anodenleitung (siehe Bild zum Versuchsaufbau) begrenzt den Strom. Diskutieren Sie, ob man den Spannungsabfall an diesem Widerstand bei den vorangegangenen Aufgaben hätte berücksichtigen müssen.\n",
    "\n",
    "---"
   ]
  },
  {
   "cell_type": "markdown",
   "id": "7f4c1734-0bda-44fc-908f-d183ddd8f9d0",
   "metadata": {},
   "source": [
    "**Lösung:**\n",
    "\n",
    "*Sie können Ihr Protokoll direkt in dieses Dokument einfügen. Wenn Sie dieses Dokument als Grundlage für ein [Jupyter notebook](https://jupyter.org/) verwenden wollen können Sie die Auswertung, Skripte und ggf. bildliche Darstellungen mit Hilfe von [python](https://www.python.org/) ebenfalls hier einfügen. Löschen Sie hierzu diesen kursiv gestellten Text aus dem Dokument.* \n",
    "\n",
    "---"
   ]
  },
  {
   "cell_type": "markdown",
   "id": "cb8d84e8-0055-4be8-91bf-093663321029",
   "metadata": {},
   "source": [
    "### Aufgabe 2: Beobachtung der nächst-höheren Anregungen von $\\mathrm{Hg}$\n",
    "\n",
    "Bestimmen Sie die Energie für die nächst-höheren Anregungen von $\\mathrm{Hg}$. Benutzen Sie hierzu die Schaltung von Aufgabe 1.4, so dass die Wahrscheinlichkeit höhere Anregungsenergien zu beobachten erheblich vergrößert wird (beachten Sie hierzu den entsprechenden Abschnitt in der [Vorbereitungshilfe](https://git.scc.kit.edu/etp-lehre/p2-for-students/-/blob/main/Franck_Hertz_Versuch/Franck-Hertz-Vorbereitungshilfe.pdf)). Suchen Sie mit Hilfe des oszillographischen Beobachtungsmodus günstige Betriebsbedingungen auf und drucken Sie einen Verlauf von $I_{\\mathrm{A}}$ aus, aus dem Sie auf entsprechende höhere Anregungen im $\\mathrm{Hg}$ schließen können. Die Struktur dieser Kurve wird im Wesentlichen durch Linearkombinationen der beiden niedrigsten Anregungsenergien bestimmt.\n",
    "\n",
    "Das Ergebnisbild ist ähnlich zu (aber nicht identisch mit) Bild 7 in der [Vorbereitungshilfe](https://git.scc.kit.edu/etp-lehre/p2-for-students/-/blob/main/Franck_Hertz_Versuch/Franck-Hertz-Vorbereitungshilfe.pdf), das jedoch mit einer ganz anderen Röhre gewonnen wurde. Franck-Hertz-$\\mathrm{Hg}$-Röhren können erhebliche Fertigungstoleranzen aufweisen und altern unterschiedlich schnell. Es ist deshalb möglich, dass Sie mit den drei Franck-Hertz-Versuchen unterschiedlich gute Ergebnisse erreichen. Besonders deutlich können solche Unterschiede bei dieser Aufgabe zutage treten. Falls Sie keine geeignete Kurve aufzeichnen können, können Sie für diese Aufgabe die Ergebnisse einer Nachbargruppe für Ihre Auswertung verwenden. Fügen Sie Ihrer Auswertung in diesem Fall einen entsprechenden Verweis zu. \n",
    "\n",
    "---"
   ]
  },
  {
   "cell_type": "markdown",
   "id": "a19b1d3a-8b0d-4658-b83a-4b453878e073",
   "metadata": {},
   "source": [
    "**Lösung:**\n",
    "\n",
    "*Sie können Ihr Protokoll direkt in dieses Dokument einfügen. Wenn Sie dieses Dokument als Grundlage für ein [Jupyter notebook](https://jupyter.org/) verwenden wollen können Sie die Auswertung, Skripte und ggf. bildliche Darstellungen mit Hilfe von [python](https://www.python.org/) ebenfalls hier einfügen. Löschen Sie hierzu diesen kursiv gestellten Text aus dem Dokument.* \n",
    "\n",
    "---"
   ]
  },
  {
   "cell_type": "markdown",
   "id": "c34dfb2c-33f8-4df6-b30a-fde515f4606f",
   "metadata": {},
   "source": [
    "### Aufgabe 3: Bestimmung der mittleren Energie für die Anregung von $\\mathrm{Ne}$ durch Elektronenstoß\n",
    "\n",
    "Bestimmen Sie die mittlere Energie für die vorherrschenden Anregungen von $\\mathrm{Ne}$ durch Elektronenstoß aus der oszillographischen Dargestellung von $I_{\\mathrm{A}}$ für die Franck-Hertz-$\\mathrm{Ne}$-Röhre. Bei den vorherrschenden Anregungen handelt es sich um eine Gruppe von Niveaus, die in einem etwa $0,5\\,\\mathrm{eV}$ breiten Energiebereich liegen. Das zugehörige emittierte Licht ist rot. Wenn Sie die Beschleunigungsspannung erhöhen, können Sie die Verlagerung und die Vermehrung von Leuchtschichten im Stoßraum beobachten. \n",
    "\n",
    "Für diesen Versuchsteil benutzen Sie eine spezielle Röhre mit indirekter Kathodenheizung, planparalleler Elektrodenanordnung und $\\mathrm{Ne}$-Füllung. Die Kontaktspannung zwischen der $\\mathrm{BaO}$-Kathode und der Metallanode mindert die angelegte Spannung um etwa $2,5\\,\\mathrm{V}$. Die Schaltung entspricht der der Franck-Hertz-$\\mathrm{Hg}$-Röhre. Die Franck-Hertz-$\\mathrm{Ne}$-Röhre ist nur einmal vorhanden, Sie müssen sie also mit den anderen Gruppen gemeinsam benutzen. Weil die Schaltung bereits fertig aufgebaut ist und Wartezeiten für das Aufheizen oder Abkühlen entfallen, benötigen Sie aber nur wenig Zeit für diese Aufgabe. Diskutieren Sie, ob es bei dieser Röhre Sinn macht zu heizen. Was würde sich dabei ändern und was nicht? Wenn ein besonderes Interesse daran besteht, können Sie auch hier Kurven mit dem Speicheroszilloskop aufzeichnen. Die Röhre soll allerdings nicht in der für Aufgabe 2 modifizierten Schaltung betrieben werden.\n",
    "\n",
    "---"
   ]
  },
  {
   "cell_type": "markdown",
   "id": "73c35370-8498-44e1-a256-dcb9d61e998d",
   "metadata": {},
   "source": [
    "**Lösung:**\n",
    "\n",
    "*Sie können Ihr Protokoll direkt in dieses Dokument einfügen. Wenn Sie dieses Dokument als Grundlage für ein [Jupyter notebook](https://jupyter.org/) verwenden wollen können Sie die Auswertung, Skripte und ggf. bildliche Darstellungen mit Hilfe von [python](https://www.python.org/) ebenfalls hier einfügen. Löschen Sie hierzu diesen kursiv gestellten Text aus dem Dokument.* \n",
    "\n",
    "---"
   ]
  }
 ],
 "metadata": {
  "kernelspec": {
   "display_name": "Python 3 (ipykernel)",
   "language": "python",
   "name": "python3"
  },
  "language_info": {
   "codemirror_mode": {
    "name": "ipython",
    "version": 3
   },
   "file_extension": ".py",
   "mimetype": "text/x-python",
   "name": "python",
   "nbconvert_exporter": "python",
   "pygments_lexer": "ipython3",
   "version": "3.10.6"
  }
 },
 "nbformat": 4,
 "nbformat_minor": 5
}
