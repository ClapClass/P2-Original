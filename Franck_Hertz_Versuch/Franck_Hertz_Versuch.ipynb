{
 "cells": [
  {
   "cell_type": "markdown",
   "id": "a50348e5-f545-4957-bf87-22ef69001b37",
   "metadata": {},
   "source": [
    "# Fakultät für Physik\n",
    "\n",
    "## Physikalisches Praktikum P2 für Studierende der Physik\n",
    "\n",
    "Versuch P2-53, 54, 55 (Stand: März 2024)\n",
    "\n",
    "[Raum F1-13](https://labs.physik.kit.edu/img/Praktikum/Lageplan_P2.png)\n",
    "\n",
    "\n",
    "\n",
    "# Franck-Hertz-Versuch"
   ]
  },
  {
   "cell_type": "markdown",
   "id": "f603ee40-2e77-4c13-a205-5dcf9b24b2c2",
   "metadata": {},
   "source": [
    "Name: __________________ Vorname: __________________ E-Mail: __________________\n",
    "\n",
    "\\begin{equation*}\n",
    "\\begin{split}\n",
    "&\\\\\n",
    "&\\\\\n",
    "\\end{split}\n",
    "\\end{equation*}\n",
    "\n",
    "Name: __________________ Vorname: __________________ E-Mail: __________________\n",
    "\n",
    "\\begin{equation*}\n",
    "\\begin{split}\n",
    "&\\\\\n",
    "&\\\\\n",
    "&\\\\\n",
    "\\end{split}\n",
    "\\end{equation*}\n",
    "\n",
    "Gruppennummer: _____\n",
    "\n",
    "\\begin{equation*}\n",
    "\\begin{split}\n",
    "&\\\\\n",
    "&\\\\\n",
    "&\\\\\n",
    "\\end{split}\n",
    "\\end{equation*}\n",
    "\n",
    "\n",
    "Betreuer: __________________\n",
    "\n",
    "\\begin{equation*}\n",
    "\\begin{split}\n",
    "&\\\\\n",
    "&\\\\\n",
    "&\\\\\n",
    "\\end{split}\n",
    "\\end{equation*}\n",
    "\n",
    "Versuch durchgeführt am: __________________"
   ]
  },
  {
   "cell_type": "markdown",
   "id": "beb08c66-ad9c-4a8d-ac4e-ad9543130813",
   "metadata": {},
   "source": [
    "---\n",
    "\n",
    "**Beanstandungen:**\n",
    "\n",
    "\\begin{equation*}\n",
    "\\begin{split}\n",
    "&\\\\\n",
    "&\\\\\n",
    "&\\\\\n",
    "&\\\\\n",
    "&\\\\\n",
    "&\\\\\n",
    "&\\\\\n",
    "&\\\\\n",
    "&\\\\\n",
    "&\\\\\n",
    "\\end{split}\n",
    "%\\text{\\vspace{10cm}}\n",
    "\\end{equation*}\n",
    "\n",
    "<br>\n",
    "Testiert am: __________________ Vermerk: __________________"
   ]
  },
  {
   "cell_type": "markdown",
   "id": "0400aee5-e12a-4146-a7cf-d95d4906ceb0",
   "metadata": {},
   "source": [
    "# Franck-Hertz-Versuch\n",
    "\n",
    "\n",
    "\n",
    "## Motivation\n",
    "\n",
    "Zwischen 1912–14 führten [James Franck](https://de.wikipedia.org/wiki/James_Franck) und [Gustav Hertz](https://de.wikipedia.org/wiki/Gustav_Hertz) Versuche zur Untersuchung der Ionisationsenergie einatomiger Gase mit Hilfe von [Röhrendioden](https://de.wikipedia.org/wiki/R%C3%B6hrendiode) durch, die sie kontrolliert mit Quecksilbergas ($\\mathrm{Hg}$) befüllten. Damals war über die diskreten Energieniveaus im Atom nichts bekannt. Es bestand die verbreitete Ansicht, dass Ionisation die einzige Form sei, in der Atome außer durch elastische Stöße Energie aufnehmen könnten. Die Energieaufnahme einatomiger Gase konnte jedoch durch die anerkannte Theorie der [Gasentladung](https://de.wikipedia.org/wiki/Gasentladung) nicht beschrieben werden, worin für Franck und Hertz die Motivation ihrer Versuche bestand. Der letzte in einer Reihe von Versuchen ging als [Franck-Hertz-Versuch](https://de.wikipedia.org/wiki/Franck-Hertz-Versuch) in die Geschichte der Quantenphysik ein und führte zur Verleihung des Physik-Nobelpreises 1925. Franck und Hertz führten diese Versuche nicht durch, um das 1913 durch Niels Bohr entwickelte [Bohrsche Atommodell](https://de.wikipedia.org/wiki/Bohrsches_Atommodell) zu bestätigen, das zu dieser Zeit noch wenig bekannt war. Tatsächlich, gingen beide bis 1917 noch davon aus, das die von ihnen beobachteten Effekte auf die Rekombination ionisierter $\\mathrm{Hg}$-Atome zurückzuführen seien. \n",
    "\n",
    "Damals war durch mehrere Experimente bekannt, dass Atome nur mit diskreten Lichtquanten in Wechselwirkung traten. Es war jedoch nicht klar, ob dieses Phänomen nicht eine Eigenschaft nur des Lichts sei. Mit dem Franck-Hertz-Versuch konnte die von Niels Bohr postulierte quantisierte Aufnahme von Energie im Atom auch in Stößen von Atomen mit Elektronen nachgewiesen und die anschließende Energieabgabe durch Lichtquanten gleicher Energie beobachtet werden. Der Franck-Herz-Versuch trug so entscheidend zum Durchbruch und zur Entwicklung der Quantenphysik und unserer heutigen Vorstellung des Atoms im Rahmen der Quantenmechanik bei. Im P2-Praktikum haben Sie die Möglichkeit diesen historischen Versuch selbst durchzuführen.  \n",
    "\n",
    "## Lernziele\n",
    "\n",
    "Wir listen im Folgenden die wichtigsten **Lernziele** auf, die wir Ihnen mit dem **Franck-Hertz-Versuch** vermitteln möchten: \n",
    "\n",
    "- Sie experimentieren mit dem Oszilloskop und nehmen in verschiedenen Betriebsmoden Daten auf.\n",
    "- Sie führen einen historischen Versuch der Quantenphysik eigenhändig durch. Sie haben dabei die Chance sich mit den Feinheiten dieses Versuchs eingehend vertraut zu machen.\n",
    "- Sie beschäftigen sich mit dem Zusammenhang zwischen dem temperaturabhängigen Dampfdruck von $\\mathrm{Hg}$ und der [mittleren freien Weglänge](https://de.wikipedia.org/wiki/Mittlere_freie_Wegl%C3%A4nge) in einer evakuierten Röhre (die Vorbereitungshilfe ist in diesem Punkt sehr detailliert.) \n",
    "- Sie untersuchen, wie mit einfachen Mitteln die elektrischen Felder, die den Weg elektrischer Ladungen bestimmen, manipuliert werden können und betreiben den Versuch in verschiedenen Konfigurationen.\n",
    "- Sie beobachten den Effekt der Anregung von $\\mathrm{Hg}$ und Neon ($\\mathrm{Ne}$) sowohl im Auffängerstrom der Röhre (siehe Abschnitt Versuchsaufbau), als auch als sichtbares Licht, dessen Emission Sie qualitativ untersuchen. \n",
    "- Sie schätzen die Energie des niedrigsten beobachtbaren Übergangs im $\\mathrm{Hg}$-Atom quantitativ ab und untersuchen Sie durch geschicktes Experimentieren die Überlagerung mit Übergängen in höhere Anregungszustände."
   ]
  },
  {
   "cell_type": "markdown",
   "id": "750e28f2-67e9-4313-b54f-9427c23226c8",
   "metadata": {},
   "source": [
    "## Versuchsaufbau\n",
    "\n",
    "Der grundsätzliche Aufbau der im P2 Praktikum verwendeten Franck-Hertz-[Tetroden](https://de.wikipedia.org/wiki/Elektronenr%C3%B6hre#Tetrode) ist im folgenden Bild gezeigt: ([Link](https://git.scc.kit.edu/etp-lehre/p2-for-students/-/raw/main/Franck_Hertz_Versuch/figures/FranckHertzSkizze.png))  \n",
    "\n",
    "<img src=\"./figures/FranckHertzSkizze.png\" height=\"700\" width=\"700\" style=\"zoom:80%;\" />\n",
    "\n",
    "Auf der linken Seite der Zeichnung befindet sich eine Glühkathode (K, im Bild nicht näher bezeichnet). In geringem Abstand zu K  befindet sich das *grobmaschige* Raumladungsgitter G1 (im Bild mit g1 bezeichnet; auch [Steuergitter](https://de.wikipedia.org/wiki/Steuergitter) genannt), mit dessen Hilfe Sie den Strom der freien Elektronen beeinflussen können. Zwischen K und G1 liegt die Spannung $U_{1}$ an. Das *feinmaschige* Beschleunigungsgitter G2 (im Bild mit g2 bezeichnet; auch [Schirmgitter](https://de.wikipedia.org/wiki/Schirmgitter) genannt) fungiert als Anode. Zwischen G1 und G2 liegt die Beschleunigungsspannung $U_{\\mathrm{B}}=U_{2}$ an. In wiederum geringem Abstand zu G2 befindet sich die Auffängerelektrode A. Zwischen G2 und A befindet sich die Gegenspannung $U_{3}$. \n",
    "\n",
    "Aus K treten Elektronen aus und werden auf G1 zu beschleunigt. Wegen des geringen Abstands zwischen K und G1 kommt es hier nur sehr selten zu Stößen der Elektronen mit den Atomen des $\\mathrm{Hg}$-Gases. Während einige Elektronen auf G1 aufschlagen und zu K zurückgeführt werden, durchdringen die meisten die Maschen von G1 und werden auf G2 zu beschleunigt. Auf diesem deutlich längeren Weg kommt es sowohl zu **elastischen** als auch zu **unelastischen** Stößen der Elektronen mit den Atomen des $\\mathrm{Hg}$-Gases. Der Dampfdruck des $\\mathrm{Hg}$-Gases lässt sich dabei so einstellen, dass die Elektronen kaum Energie durch elastische Stöße verlieren (siehe Vorbereitungshilfe). Die meisten Elektronen treffen daraufhin auf G2 auf und erzeugen dort einen messbaren **Anodenstrom**. Einige Elektronen treten jedoch auch durch die Maschen von G2 und werden daraufhin durch das elektrische Feld zwischen G2 und A in Gegenrichtung beschleunigt. Je nach Konfiguration aus $U_{1}$, $U_{2}$ und $U_{3}$ werden die Elektronen wieder zu G2 zurück beschleunigt, oder sie erreichen A. Dort können sie mit Hilfe eines Operationsverstärkers über den Spannungsabfall ($U_{\\mathrm{A}}$) an einem hochohmigen Widerstand als **Auffängerstrom** ($I_{\\mathrm{A}}$) nachgewiesen werden. \n",
    "\n",
    "Unter [diesem Link](https://www.kippenbergs.de/mint-franckhertz) können Sie eine Simulation des Wegs der Elektronen durch eine etwas einfachere Franck-Hertz-[Triode](https://de.wikipedia.org/wiki/Elektronenr%C3%B6hre#Triode) beobachten. \n",
    "\n",
    "Für die verschiedenen Versuchsteile stehen Ihnen die folgenden Geräte zur Verfügung: \n",
    "\n",
    "- Eine koaxiale Franck-Hertz-[Tetrode](https://de.wikipedia.org/wiki/Elektronenr%C3%B6hre#Tetrode) mit einem Tropfen $\\mathrm{Hg}$ im Innern. Die Tetrode befindet sich in einem Heizofen mit einstellbarem Thermostat, Sichtfenstern, $\\mathrm{NiCr}$-$\\mathrm{Ni}$ Temperaturfühler, Schutzwiderständen und Anschlussbuchsen.\n",
    "  - Der max. erlaubte Heizstrom der indirekt geheizten $\\mathrm{BaO}$-Kathode (K) beträgt $0,4\\,\\mathrm{A}$. \n",
    "  - Der Abstand K-G1 beträgt $\\approx0,5\\,\\mathrm{mm}$. \n",
    "  - Der Abstand K-G2 beträgt $\\approx6\\,\\mathrm{mm}$.\n",
    "\n",
    "- Hinweise für das Gerät zum Betrieb der Franck-Hertz-$\\mathrm{Hg}$-Röhre: \n",
    "  - Der erlaubte Grenzwert der Heizspannung für K beträgt $6,4\\,\\mathrm{V}$; \n",
    "  - Die Gleichspannung $U_{1}$ ist bis auf $5\\,\\mathrm{V}$ regelbar. Der Minuspol ist mit einem Pol der Heizstromquelle für K verbunden (siehe Bild); \n",
    "  - Für $U_{\\mathrm{B}}=U_{2}$ können Sie zwischen drei Einstellungen wählen: Einer einstellbaren Gleichspannung, einer linearen Rampe oder einer Sägezahnspannung jeweils mit Werten von $0-30\\,\\mathrm{V}$; \n",
    "  - Für $U_{3}$ können Sie eine Spannung bis $-10\\,\\mathrm{V}$ einstellen. \n",
    "  - Am Gerät befinden sich Ausgabebuchsen für $U_{\\mathrm{B}}/10$ und $U_{\\mathrm{A}}$. Die Spannung $U_{\\mathrm{A}}$ wird von einem Operationsverstärker ausgegeben und ist proportional zu $I_{\\mathrm{A}}$. Es gilt: $1\\,\\mathrm{V} \\approx1\\,\\mathrm{nA}$.\n",
    "\n",
    "- Ein USB-Oszilloskop (Picoscope) mit Computer.\n",
    "- Ein Multimeter.\n",
    "- Ein Taschenspektroskop mit Stativ.\n",
    "- Eine Franck-Hertz-Tetrode mit $\\mathrm{Ne}$-Füllung, Lichtschutzgehäuse, Sichtfenster, Sockelplatte mit Anschlussbuchsen und $10\\,\\mathrm{k\\Omega}$-Schutzwiderstand in der Anodenleitung. \n",
    "  - Der maximale Anodenstrom für die Franck-Hertz-$\\mathrm{Ne}$-Röhre beträgt $5\\,\\mathrm{\\mu A}$. \n",
    "  - Die Elektroden sind planparallel und der Abstand zwischen Kathode und Anode beträgt $\\approx7\\,\\mathrm{mm}$. \n",
    "  - Die Franck-Hertz-$\\mathrm{Ne}$-Röhre wird mit Hilfe von zwei Betriebsgeräten angesteuert. \n",
    "\n",
    "- Hinweise für das **erste Gerät** zum Betrieb der Franck-Hertz-$\\mathrm{Ne}$-Röhre:\n",
    "  - Hiermit steuern Sie den regelbaren Heizstrom. \n",
    "  - Für $U_{\\mathrm{B}}$ können Sie wahlweise eine Gleich- oder Sägezahnspannung bis zu $70\\,\\mathrm{V}$ einstellen. \n",
    "  - Zudem können Sie eine Sägezahnspannung für die $x$-Ablenkung des Oszillographen separat einstellen. \n",
    "  - Ebenso wird der Verstärker für die Messung von  $I_{\\mathrm{A}}$ über dieses Gerät angesteuert.\n",
    "\n",
    "- Hinweise für das **zweite Gerät** zum Betrieb der Franck-Hertz-$\\mathrm{Ne}$-Röhre: \n",
    "  - Hiermit stellen Sie eine feste Gleichspannung ($U_{1}$) für G1 bereit; \n",
    "  - Für $U_{3}$ lässt sich eine Gleichspannung bis zu $10\\,\\mathrm{V}$ einstellen.\n",
    "\n",
    "\n",
    "## Wichtige Hinweise\n",
    "\n",
    "- Für die oszillographische Darstellung von $I_{\\mathrm{A}}$ wird eine periodische Beschleunigungsspannung benötigt. Diese darf man aber nicht zu schnell ändern, da sich ein **stationärer Zustand in der Röhre** nur relativ langsam einstellt. Langsame Vorgänge sind z.B. die Bewegung und Rekombination der Ionen, sowie die Rückkehr von angeregten Zuständen in den Grundzustand, wenn diese optisch verboten sind. Das Betriebsgerät stellt eine periodische Sägezahnspannung zwischen $0-30\\,\\mathrm{V}$ zur Verfügung. Die Oszillographennutzung in diesem Modus empfiehlt sich zum Kennenlernen der Apparatur und beim Einstellen von Temperatur, $U_{1}$ und $U_{3}$. Um die Verhältnisse im quasi-stationären Zustand aufzuzeichnen, wird das Speicheroszilloskop mit der (langsamen) linearen Rampe oder per Hand als \"Einmalvorgang\" ausgelöst. Der Unterschied zu der sich wiederholenden Darstellung mit Hilfe der Sägezahnspannung wird in diesem Fall deutlich sichtbar. Die Daten ($U$-$I$-Wertepaare) können auf dem Rechner abgespeichert und anschließend analysiert werden.\n",
    "- Der Heizofen für die Franck-Hertz-$\\mathrm{Hg}$-Röhre ist mit einem $\\mathrm{NiCr}$-$\\mathrm{Ni}$ Temperaturfühler und mit einem Thermostaten ausgestattet. Bei Erreichen der Solltemperatur leuchtet die Leuchtdiode am Betriebsgerät grün. Der Ofen ist nicht geeignet, die Röhre homogen zu beheizen. Man kann beobachten, dass das $\\mathrm{Hg}$ bevorzugt in bestimmten Bereichen der Glaswand kondensiert. Für den Dampfdruck ist die kälteste Stelle maßgebend. Ihre Temperatur kann von der des Temperaturfühlers geringfügig abweichen, auch wenn der empfindliche Teil des Temperaturfühlers sich im Ofen auf gleicher Höhe befindet.\n",
    "- Eine weitere Konsequenz der nicht homogenen Beheizung der Franck-Hertz-$\\mathrm{Hg}$-Röhre ist, dass es zu Ablagerungen von $\\mathrm{Hg}$ an den Glaswänden kommen kann, wenn der Versuchsaufbau längere Zeit nicht in Betrieb ist. Kontinuierliche Ausgasungen von den Wänden der Röhre können gerade zu Beginn des Praktikumsbetriebs zu veränderlichem $\\mathrm{Hg}$-Dampfdruck in der Röhre führen. Es empfiehlt sich daher die Röhre bereits einige Tage vor Beginn des Praktikumsbetriebs auszuheizen.  \n"
   ]
  },
  {
   "cell_type": "markdown",
   "id": "f0726035-9c5e-452e-99c4-9e9c0a336e23",
   "metadata": {},
   "source": [
    "# Durchführung\n",
    "\n",
    "**Die Anleitung zu diesem Versuch finden Sie [hier](https://gitlab.kit.edu/kit/etp-lehre/p2-praktikum/students/-/blob/main/Franck_Hertz_Versuch/README.md).**"
   ]
  },
  {
   "cell_type": "markdown",
   "id": "92f01435-81d7-4ffb-aed7-b78a2bcfee39",
   "metadata": {
    "jp-MarkdownHeadingCollapsed": true,
    "tags": []
   },
   "source": [
    "## Aufgabe 1: Messanordnung\n",
    "\n",
    "**Hinweise zu Aufgabe 1 finden in der Datei [Hinweise-Versuchsdurchfuehrung.md](https://gitlab.kit.edu/kit/etp-lehre/p2-praktikum/students/-/blob/main/Franck_Hertz_Versuch/doc/Hinweise-Versuchsdurchfuehrung.md).**\n",
    "\n",
    "- Bauen Sie die Schaltung der Franck-Hertz-$\\mathrm{Hg}$-Röhre mit dem zugehörigen Betriebsgerät auf. \n",
    " - Machen Sie sich mit dem Versuchsaufbau vertraut, indem Sie die folgenden Aufgaben bearbieten.\n",
    "\n",
    "---"
   ]
  },
  {
   "cell_type": "markdown",
   "id": "b148feb4-86f0-457e-993e-f0e533993550",
   "metadata": {
    "jp-MarkdownHeadingCollapsed": true,
    "tags": []
   },
   "source": [
    "### Aufgabe 1.1: Beschreibung der Messanordnung\n",
    "\n",
    " * Beschreiben Sie die Messanordnung, die Sie für diesen Versuch vorfinden in eigenen Worten.\n",
    "\n",
    "---"
   ]
  },
  {
   "cell_type": "markdown",
   "id": "b0ddcc65-60ac-47fa-8902-2482ef185d48",
   "metadata": {},
   "source": [
    "**Lösung:**\n",
    "\n",
    "*Fügen Sie Ihre Lösung zu dieser Aufgabe hier ein. Löschen Sie hierzu diesen kursiv gestellten Text aus dem Dokument. Um Code-Fragmente und Skripte in [Python](https://www.python.org/), sowie ggf. bildliche Darstellungen direkt ins [Jupyter notebook](https://jupyter.org/) einzubinden fügen Sie dem notebook eine Code-Zelle zu.* \n",
    "\n",
    "---"
   ]
  },
  {
   "cell_type": "markdown",
   "id": "6044619d-d749-40b3-b4cc-4a107737704d",
   "metadata": {
    "jp-MarkdownHeadingCollapsed": true,
    "tags": []
   },
   "source": [
    "### Aufgabe 1.2: Effekt der Steuerparameter an der Röhre\n",
    "\n",
    " * Beschreiben Sie in eigenen Worten die Effekte, die einzelne Variationen der Parameter $\\vartheta$, $U_{1}$, $U_{2}$ und $U_{3}$ auf $I_{A}$ haben. \n",
    " * Nehmen Sie für $\\theta=180,\\,160,\\,140,\\,120^{\\circ}\\,\\mathrm{C}$ jeweils einen Verlauf von $I_{A}$ als Funktion von $U_{2}$, für entsprechend optimierte Werte von $U_{1}$ und $U_{3}$, auf und fügen Sie Ihrem Protokoll eine entsprechende Darstellungen bei. Notieren Sie zu jeder Darstellug die verwendeten Werte von $U_{1}$ und $U_{3}$. \n",
    " * Beschrieben Sie den Kurvenverlauf und die entsprechenden Änderungen qualitativ.\n",
    "\n",
    "---"
   ]
  },
  {
   "cell_type": "markdown",
   "id": "480ac77e-93af-4e12-a912-1c77b3be9b41",
   "metadata": {},
   "source": [
    "**Lösung:**\n",
    "\n",
    "*Fügen Sie Ihre Lösung zu dieser Aufgabe hier ein. Löschen Sie hierzu diesen kursiv gestellten Text aus dem Dokument. Um Code-Fragmente und Skripte in [Python](https://www.python.org/), sowie ggf. bildliche Darstellungen direkt ins [Jupyter notebook](https://jupyter.org/) einzubinden fügen Sie dem notebook eine Code-Zelle zu.* \n",
    "\n",
    "---"
   ]
  },
  {
   "cell_type": "markdown",
   "id": "7553a19b-9625-42f7-ad91-1dea7f45c777",
   "metadata": {
    "jp-MarkdownHeadingCollapsed": true,
    "tags": []
   },
   "source": [
    "## Aufgabe 2: Charakterisierung der Röhre\n",
    "\n",
    "**Hinweise zu Aufgabe 2 finden in der Datei [Hinweise-Versuchsdurchfuehrung.md](https://gitlab.kit.edu/kit/etp-lehre/p2-praktikum/students/-/blob/main/Franck_Hertz_Versuch/doc/Hinweise-Versuchsdurchfuehrung.md).**\n",
    "\n",
    "Charakterisieren Sie die Röhre, für die Einstellungen von $\\vartheta$, $U_{1}$ und $U_{3}$ aus **Aufgabe 1.2**, die Ihnen dafür am besten geeignet erscheinen. Bearbeiten Sie hierzu die folgenden Aufgaben.\n",
    "\n",
    "---"
   ]
  },
  {
   "cell_type": "markdown",
   "id": "d3f00615-d56e-4034-a878-e91aae42e7dc",
   "metadata": {
    "jp-MarkdownHeadingCollapsed": true,
    "tags": []
   },
   "source": [
    "### Aufgabe 2.1: Bestimmung der Spannungsdifferenz $\\Delta U_{B}$ und der effektiven Kontaktspannung $U_{\\mathrm{th.}}$\n",
    "\n",
    " * Bestimmen Sie die Spannungsdifferenz $\\Delta U_{B}$ mit Hilfe der beobachteten Maxima und/oder Minima des Verlaufs von $I_{A}$.\n",
    " * Bestimmen Sie die effektive Kontaktspannung $U_{\\mathrm{th.}}$.\n",
    " * Kalibrieren Sie für Ihre spätere Auswertung die $x$-Achse **aller aufgezeichneten Diagramme** entsprechend, so dass dort $U_{B}$ angezeigt wird.\n",
    "\n",
    "---"
   ]
  },
  {
   "cell_type": "markdown",
   "id": "84f7d54e-c365-4319-a4f8-8ca877dab1c7",
   "metadata": {},
   "source": [
    "**Lösung:**\n",
    "\n",
    "*Fügen Sie Ihre Lösung zu dieser Aufgabe hier ein. Löschen Sie hierzu diesen kursiv gestellten Text aus dem Dokument. Um Code-Fragmente und Skripte in [Python](https://www.python.org/), sowie ggf. bildliche Darstellungen direkt ins [Jupyter notebook](https://jupyter.org/) einzubinden fügen Sie dem notebook eine Code-Zelle zu.* \n",
    "\n",
    "---"
   ]
  },
  {
   "cell_type": "markdown",
   "id": "51314eff-f682-46e3-8fa1-e02b83738373",
   "metadata": {
    "jp-MarkdownHeadingCollapsed": true,
    "tags": []
   },
   "source": [
    "### Aufgabe 2.2: Verlauf des Anodenstroms $I_{\\mathrm{G2}}$\n",
    "\n",
    " * Bestimmen Sie den Anodenstrom $I_{G2}$ als Funktion von $U_{2}$. \n",
    " * Überprüfen Sie durch geeignete Auftragung die aus dem [Raumladungsgesetz](https://de.wikipedia.org/wiki/Raumladungsgesetz) erwartete Abhängigkeit von $U_{2}$.\n",
    "\n",
    "---"
   ]
  },
  {
   "cell_type": "markdown",
   "id": "3fe7852d-e4e0-4ed6-b873-8792940efc73",
   "metadata": {},
   "source": [
    "**Lösung:**\n",
    "\n",
    "*Fügen Sie Ihre Lösung zu dieser Aufgabe hier ein. Löschen Sie hierzu diesen kursiv gestellten Text aus dem Dokument. Um Code-Fragmente und Skripte in [Python](https://www.python.org/), sowie ggf. bildliche Darstellungen direkt ins [Jupyter notebook](https://jupyter.org/) einzubinden fügen Sie dem notebook eine Code-Zelle zu.* \n",
    "\n",
    "---"
   ]
  },
  {
   "cell_type": "markdown",
   "id": "cb8d84e8-0055-4be8-91bf-093663321029",
   "metadata": {
    "jp-MarkdownHeadingCollapsed": true,
    "tags": []
   },
   "source": [
    "## Aufgabe 3: Höhere Anregungen von $\\mathrm{Hg}$\n",
    "\n",
    "**Hinweise zu Aufgabe 3 finden in der Datei [Hinweise-Versuchsdurchfuehrung.md](https://gitlab.kit.edu/kit/etp-lehre/p2-praktikum/students/-/blob/main/Franck_Hertz_Versuch/doc/Hinweise-Versuchsdurchfuehrung.md).**\n",
    "\n",
    "Untersuchen Sie höhere Anregungen von $\\mathrm{Hg}$ und schätzen Sie seine Ionisierungsenergie ab. Bearbeiten Sie hierzu die folgenden Aufgaben.\n",
    "\n",
    "---"
   ]
  },
  {
   "cell_type": "markdown",
   "id": "31613d4d-a3bf-4248-a7e7-fe17d547d75d",
   "metadata": {
    "jp-MarkdownHeadingCollapsed": true,
    "tags": []
   },
   "source": [
    "### Aufgabe 3.1: Beobachtung höherer Anregungen von $\\mathrm{Hg}$\n",
    "\n",
    " * Bestimmen Sie den Verlauf von $I_{A}$ als Funktion von $U_{B}$ unter Betriebsbedingungen, die für die Erzeugung höherer Anregungszustände in $\\mathrm{Hg}$ geeignet sind. \n",
    " * Versuchen Sie im Rahmen Ihrer Auswertung soviele Strukturen im Verlauf von $I_{A}$ wie möglich zu identifizieren. Dieser wird im Wesentlichen durch Linearkombinationen der beiden niedrigsten Anregungsenergien bestimmt.\n",
    "\n",
    "---"
   ]
  },
  {
   "cell_type": "markdown",
   "id": "418b36e3-e9ab-4bc2-bb85-5451ebe17f7f",
   "metadata": {},
   "source": [
    "**Lösung:**\n",
    "\n",
    "*Fügen Sie Ihre Lösung zu dieser Aufgabe hier ein. Löschen Sie hierzu diesen kursiv gestellten Text aus dem Dokument. Um Code-Fragmente und Skripte in [Python](https://www.python.org/), sowie ggf. bildliche Darstellungen direkt ins [Jupyter notebook](https://jupyter.org/) einzubinden fügen Sie dem notebook eine Code-Zelle zu.* \n",
    "\n",
    "---"
   ]
  },
  {
   "cell_type": "markdown",
   "id": "4fab0d01-6d10-421e-91b8-bc7c9b0c61e4",
   "metadata": {
    "jp-MarkdownHeadingCollapsed": true,
    "tags": []
   },
   "source": [
    "### Aufgabe 3.2: Ionisierungsenergie von $\\mathrm{Hg}$\n",
    "\n",
    " * Bestimmen Sie aus dem Verlauf von $I_{G_{2}}$ als Funktion von $U_{B}$ die Ionisierungsenergie von $\\mathrm{Hg}$.\n",
    " * Beobachten Sie mit dem Taschenspektroskop die im Bereich des sichtbaren Lichts liegenden Emissionslinien bei brennender Gasentladung. Lassen Sie hierzu eine ständige Gasentladung zünden. Fügen Sie Ihrem Protokoll ein entsprechendes Bild zu.\n",
    " \n",
    "---"
   ]
  },
  {
   "cell_type": "markdown",
   "id": "b2dfa32a-473c-4181-b87d-3767124fbaa3",
   "metadata": {},
   "source": [
    "**Lösung:**\n",
    "\n",
    "*Fügen Sie Ihre Lösung zu dieser Aufgabe hier ein. Löschen Sie hierzu diesen kursiv gestellten Text aus dem Dokument. Um Code-Fragmente und Skripte in [Python](https://www.python.org/), sowie ggf. bildliche Darstellungen direkt ins [Jupyter notebook](https://jupyter.org/) einzubinden fügen Sie dem notebook eine Code-Zelle zu.* \n",
    "\n",
    "---"
   ]
  },
  {
   "cell_type": "markdown",
   "id": "c34dfb2c-33f8-4df6-b30a-fde515f4606f",
   "metadata": {
    "jp-MarkdownHeadingCollapsed": true,
    "tags": []
   },
   "source": [
    "## Aufgabe 4: Bestimmung der mittleren Energie für die Anregung von $\\mathrm{Ne}$ durch Elektronenstoß\n",
    "\n",
    "**Hinweise zu Aufgabe 4 finden in der Datei [Hinweise-Versuchsdurchfuehrung.md](https://gitlab.kit.edu/kit/etp-lehre/p2-praktikum/students/-/blob/main/Franck_Hertz_Versuch/doc/Hinweise-Versuchsdurchfuehrung.md).**\n",
    "\n",
    "Bestimmen Sie die mittlere Energie für die vorherrschenden Anregungen von $\\mathrm{Ne}$ durch Elektronenstoß. Gehen Sie dabei analog zu **Aufgabe 2.1** vor. \n",
    "\n",
    "---"
   ]
  },
  {
   "cell_type": "markdown",
   "id": "6fe38d0a-6246-40bf-b496-016b8473f9cc",
   "metadata": {},
   "source": [
    "**Lösung:**\n",
    "\n",
    "*Fügen Sie Ihre Lösung zu dieser Aufgabe hier ein. Löschen Sie hierzu diesen kursiv gestellten Text aus dem Dokument. Um Code-Fragmente und Skripte in [Python](https://www.python.org/), sowie ggf. bildliche Darstellungen direkt ins [Jupyter notebook](https://jupyter.org/) einzubinden fügen Sie dem notebook eine Code-Zelle zu.* \n",
    "\n",
    "---"
   ]
  }
 ],
 "metadata": {
  "kernelspec": {
   "display_name": "Python 3 (ipykernel)",
   "language": "python",
   "name": "python3"
  },
  "language_info": {
   "codemirror_mode": {
    "name": "ipython",
    "version": 3
   },
   "file_extension": ".py",
   "mimetype": "text/x-python",
   "name": "python",
   "nbconvert_exporter": "python",
   "pygments_lexer": "ipython3",
   "version": "3.10.12"
  }
 },
 "nbformat": 4,
 "nbformat_minor": 5
}
