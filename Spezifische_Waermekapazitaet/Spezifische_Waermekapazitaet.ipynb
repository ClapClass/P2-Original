{
 "cells": [
  {
   "cell_type": "markdown",
   "id": "86d8f93e-72ff-4785-a502-fcf828ea4230",
   "metadata": {},
   "source": [
    "<img src=\"./figures/Logo_KIT.svg\" width=\"250\" height=\"250\" style=\"zoom:15%;float:right;\" />\n",
    "\n",
    "# Fakultät für Physik \n",
    "\n",
    "## Physikalisches Praktikum P2 für Studierende der Physik\n",
    "\n",
    "\n",
    "\n",
    "Versuch P2-33, 34 (Stand: April 2023)\n",
    "\n",
    "[Raum F1-08](http://www-ekp.physik.uni-karlsruhe.de/~simonis/praktikum/layoutobjekte/Lageplan_P1.png)"
   ]
  },
  {
   "cell_type": "markdown",
   "id": "1d6da5a8-1c48-4f53-a771-0dda742f4e5a",
   "metadata": {},
   "source": [
    "Name: __________________ Vorname: __________________ E-Mail: __________________\n",
    "\n",
    "\\begin{equation*}\n",
    "\\begin{split}\n",
    "&\\\\\n",
    "&\\\\\n",
    "\\end{split}\n",
    "\\end{equation*}\n",
    "\n",
    "Name: __________________ Vorname: __________________ E-Mail: __________________\n",
    "\n",
    "\\begin{equation*}\n",
    "\\begin{split}\n",
    "&\\\\\n",
    "&\\\\\n",
    "&\\\\\n",
    "\\end{split}\n",
    "\\end{equation*}\n",
    "\n",
    "Gruppennummer: _____\n",
    "\n",
    "\\begin{equation*}\n",
    "\\begin{split}\n",
    "&\\\\\n",
    "&\\\\\n",
    "&\\\\\n",
    "\\end{split}\n",
    "\\end{equation*}\n",
    "\n",
    "\n",
    "Betreuer: __________________\n",
    "\n",
    "\\begin{equation*}\n",
    "\\begin{split}\n",
    "&\\\\\n",
    "&\\\\\n",
    "&\\\\\n",
    "\\end{split}\n",
    "\\end{equation*}\n",
    "\n",
    "Versuch durchgeführt am: __________________"
   ]
  },
  {
   "cell_type": "markdown",
   "id": "ebf31607-172b-4fab-a513-7a301830f6b8",
   "metadata": {},
   "source": [
    "---\n",
    "\n",
    "**Beanstandungen:**\n",
    "\n",
    "\\begin{equation*}\n",
    "\\begin{split}\n",
    "&\\\\\n",
    "&\\\\\n",
    "&\\\\\n",
    "&\\\\\n",
    "&\\\\\n",
    "&\\\\\n",
    "&\\\\\n",
    "&\\\\\n",
    "&\\\\\n",
    "&\\\\\n",
    "\\end{split}\n",
    "%\\text{\\vspace{10cm}}\n",
    "\\end{equation*}\n",
    "\n",
    "<br>\n",
    "Testiert am: __________________ Vermerk: __________________"
   ]
  },
  {
   "cell_type": "markdown",
   "id": "a50ebfed-d39c-419a-bbf8-fa71a6cca56c",
   "metadata": {},
   "source": [
    "# Spezifische Wärmekapazität\n",
    "\n",
    "## Motivation\n",
    "\n",
    "Im Jahr 1819 veröffentlichten die Physiker [Pierre Dulong](https://de.wikipedia.org/wiki/Pierre_Louis_Dulong) und [Alexis Petit](https://de.wikipedia.org/wiki/Alexis_Th%C3%A9r%C3%A8se_Petit) nach eingehenden Untersuchungen die Vermutung, dass die [molare Wärmekapazität](https://de.wikipedia.org/wiki/Molare_W%C3%A4rmekapazit%C3%A4t) für alle aus einzelnen Atomen zusammengesetzten Festkörper den gleichen Wert \n",
    "\n",
    "$$\n",
    "C_{M} = 3\\,R=24,9\\,\\mathrm{J\\,mol^{-1}K^{-1}}\n",
    "$$\n",
    "\n",
    "haben könnte, wobei $R$ der idealen Gaskonstanten entspricht. Diese Vermutung konnte später durch eine entsprechende Vorhersage aus der [statistischen Thermodynamik](https://de.wikipedia.org/wiki/Statistische_Thermodynamik) erklärt werden. Eine Konsequenz dieser Vorhersage war, dass $C_{M}$ für einatomige Festkörper konstant sein sollte. Später stellte sich jedoch heraus, dass $C_{M}$ bei sehr tiefen Temperaturen ($T$) eine deutliche $T$-Abhängigkeit aufwies und und gegen Null strebte, ein Verhalten, dass im Rahmen der statistischen Thermodynamik nicht zu erklären war. Albert Einstein ([*Annalen der Physik*, 22 (1907)](http://echo.mpiwg-berlin.mpg.de/MPIWG:7BQGFZHC)) konnte dieses Phänomen als erster unter der Annahme erklären, dass Schwingungen im Festkörper, ebenso wie Strahlung in einem [Schwarzen Körper](https://de.wikipedia.org/wiki/Schwarzer_K%C3%B6rper) nur in Energiequanten aufgenommen und abgegeben werden können. Mit diesem Versuch haben Sie die Möglichkeit mit einfachsten Mitteln die Aussagen des Dulong-Petit Gesetzes für Aluminium und ein weiteres Metall experimentell nachzuprüfen und mit Hilfe von Flüssigstickstoff den Temperaturverlauf von $C_{M}$, ebenfalls an Aluminium, zu untersuchen. Damit weisen Sie eine der ersten Bruchstellen der klassischen Physik und einen der ersten Quanteneffekte im Praktikumsversuch selbst nach. \n",
    "\n",
    "## Lernziele\n",
    "\n",
    "Wir listen im Folgenden die wichtigsten **Lernziele** auf, die wir Ihnen mit dem Versuch **Spezifische Wärmekapazität** vermitteln möchten: \n",
    "\n",
    "- Sie üben sich in der Planung, Dokumentation und Durchführung einfacher Experimente zur Bestimmung der [spezifischen Wärmekapazität](https://de.wikipedia.org/wiki/Spezifische_W%C3%A4rmekapazit%C3%A4t) verschiedener Metalle.\n",
    "- Sie üben sich im gewissenhaften und exakten Experimentieren, sowie in der Abschätzung und Minimierung systematischer Effekte bei der Planung und Durchführung Ihrer Experimente.\n",
    "- Sie untersuchen den Einfluss der Umgebung auf Experimente, die mit Wärme zu tun haben ([Wärmegang](https://de.wikipedia.org/wiki/W%C3%A4rme%C3%BCbergangskoeffizient)).\n",
    "- Sie untersuchen die Abhängigkeit der spezifischen Wärmekapazität von der Temperatur, ein Phänomen, das im Rahmen der klassischen Thermodynamik nicht erklärt werden kann. \n",
    "- Sie üben sich im verantwortungsvollen Umgang mit [Flüssigstickstoff](https://de.wikipedia.org/wiki/Fl%C3%BCssigstickstoff) und führen ein Experiment bei tiefen Temperaturen durch. \n",
    "- Sie nutzen dabei den [thermoelektrischen (Peletier) Effekt](https://de.wikipedia.org/wiki/Thermoelektrizit%C3%A4t) zur Temperaturmessung.  "
   ]
  },
  {
   "cell_type": "markdown",
   "id": "f9d9b307-b3b3-44b2-afd5-73a4e10ffaac",
   "metadata": {
    "jp-MarkdownHeadingCollapsed": true,
    "tags": []
   },
   "source": [
    "## Versuchsaufbau\n",
    "\n",
    "Für die verschiedenen Versuchsteile stehen Ihnen die folgenden Geräte und Materialien zur Verfügung: \n",
    "\n",
    "- Ein [Dewargefäß](https://de.wikipedia.org/wiki/Dewargef%C3%A4%C3%9F) aus Glas ($V=250\\,\\mathrm{cm}^{3}$) als Kalorimeter, mit einem Plexiglasdeckel mit Einfüllöffnung und einem Trichter.\n",
    "- Ein Halbleiterthermometer mit Digitalanzeige (in Schritten von $0,1^{\\circ}\\mathrm{C}$).\n",
    "- Ein Quecksilberthermometer mit einem Messbereich von $-3$ bis $+50^{\\circ}\\mathrm{C}$ (mit Skaleneinteilungen von $0,2^{\\circ}\\mathrm{C}$). \n",
    "- Ein elektrischer Heisswasserbereiter ($V=300\\,\\mathrm{cm}^{3}$). \n",
    "- Eine Präzisionswaage. \n",
    "- Diverse Aluminium-, Messing- und Kupferzylinder, sowie Aluminium-, Blei-, Zinn- und Kupfergranulat. \n",
    "- Verschiedene weitere Messzylinder, [Erlenmeyerkolben](https://de.wikipedia.org/wiki/Erlenmeyerkolben), Bechergläser und Dewargefäße.\n",
    "- Ein Aluminium-Hohlzylinder ($m=338\\,\\mathrm{g}$) mit eingebauter Heizwicklung ($I_{\\mathrm{max}}=2\\,\\mathrm{A}$) und einem eingebauten $\\mathrm{NiCr}$-$\\mathrm{Ni}$-[Thermoelement](https://de.wikipedia.org/wiki/Thermoelement). Die Thermospannung als Funktion der Temperatur finden Sie im *params*-Verzeichnis in Ihrem gitlab-Repository (Dateiname: [`calibration.csv`](https://git.scc.kit.edu/etp-lehre/p2-for-students/-/blob/main/Spezifische_Waermekapazitaet/params/calibration.csv)). Die Stromversorgung für den Heizdraht liefert bis zu $5\\,\\mathrm{A}$ bei max. $16\\,\\mathrm{V}$.\n",
    "- Ein Edelstahl- und ein Nalgene-Isolierbehälter (für Aufgabe 2).\n",
    "- Ein Computer mit Picoscope TC08, als Datenlogger.\n",
    "- Schutzbrillen, Schutzhandschuhe und Pinzetten.\n",
    "\n",
    "Einen typischen Versuchsaufbau sehen Sie im Folgenden abgebildet: ([Link](https://git.scc.kit.edu/etp-lehre/p2-for-students/-/raw/main/Spezifische_Waermekapazitaet/figures/Waermekapazitaet.jpg)) \n",
    "\n",
    "<img src=\"./figures/Waermekapazitaet.jpg\" width=\"750\" height=\"750\" style=\"zoom:60%;\" />\n",
    "\n",
    "## Wichtige Hinweise\n",
    "\n",
    "- Der Umgang mit flüssigem Stickstoff erfordert besondere Vorsicht! Spritzer von flüssigem Stickstoff auf der Haut können bereits zu **schweren Verbrennungen** führen. Tragen Sie daher immer Schutzhandschuhe und eine Schutzbrille im Umgang mit flüssigem Stickstoff!\n",
    "- Werfen Sie keine Gegenstände in die Dewargefäße, da diese sonst leicht zerstört werden können."
   ]
  },
  {
   "cell_type": "markdown",
   "id": "e8a9d3a1-8f61-401d-8568-55e8943e68bc",
   "metadata": {},
   "source": [
    "## Durchführung\n",
    "\n",
    "### Aufgabe 1: Spezifische Wärmekapazität\n",
    "\n",
    "Bestimmen Sie so genau, wie es mit den verfügbaren Mitteln möglich ist, die spezifische Wärmekapazität von Aluminium und noch eines weiteren Metalls, durch das Herstellen von Mischtemperaturen in einem Glas-Kalorimeter. Hierzu stehen Ihnen die Metalle Kupfer, Messing, Blei und Zinn zur Verfügung. \n",
    "\n",
    "Finden Sie durch Überlegung und dokumentierte Vergleichsexperimente heraus, wie ein solcher Versuch am besten durchzuführen ist. Wichtige Fragen, die Sie dabei für sich beantworten sollten sind z.B.: \n",
    "\n",
    "- Sollten Sie lieber ein kompaktes Metallstück benutzen oder ein Granulat? \n",
    "- Sollten Sie zur Herstellung der Mischtemperatur heißes Metall und kaltes Wasser verwenden oder umgekehrt? \n",
    "- Ist Wasser oder eine andere Flüssigkeit geeigneter? \n",
    "- Was sind günstigste Anfangs- bzw. Endtemperaturen für Ihre Messung? \n",
    "- Welche Massen (für Wasser und Metall) sollten Sie benutzen und wie und wann sollten Sie diese bestimmen? \n",
    "- Sollten Sie Massenfehler durch anhaftendes Wasser oder durch die an das Kalorimeter und Zubehör abgegebene Wärmemenge (Wärmegang) berücksichtigen? \n",
    "- Was ist ein geeignetes Thermometer in Hinblick auf Genauigkeit, Ablesbarkeit, oder störende Masse? \n",
    "- Genügt Ihnen jeweils eine Temperaturablesung oder sollten Sie die Messung der Temperatur in Abhängigkeit von der Zeit bestimmen?\n",
    "- Wäre es sinnvoll Hilfsmessungen, mit bekannten Sollergebnissen (z.B. mit Wasser-Wasser-Gemischen) vorzunehmen?\n",
    "\n",
    "Beschreiben und begründen Sie Ihre Versuchsplanung, **messen Sie sorgfältig und dokumentieren Sie Ihr vorgehen.** Wiederholen Sie Ihre Messungen zur Abschätzung statistischer Variationen. Variieren Sie das Verfahren in den oben genannten Punkten, um systematische Effekte abzuschätzen. Äußern Sie sich am Ende der Auswertung noch einmal abschließend zum gewählten Verfahren und geben Sie mit Begründungen an, welche Versuchsbedingungen Sie wählen würden, wenn Sie den Versuch nochmal durchführen würden.\n",
    "\n",
    "---"
   ]
  },
  {
   "cell_type": "markdown",
   "id": "64b88786-e3df-435c-a44d-e12342263062",
   "metadata": {},
   "source": [
    "**Lösung:**\n",
    "\n",
    "*Sie können Ihr Protokoll direkt in dieses Dokument einfügen. Wenn Sie dieses Dokument als Grundlage für ein [Jupyter notebook](https://jupyter.org/) verwenden wollen können Sie die Auswertung, Skripte und ggf. bildliche Darstellungen mit Hilfe von [python](https://www.python.org/) ebenfalls hier einfügen. Löschen Sie hierzu diesen kursiv gestellten Text aus dem Dokument.* \n",
    "\n",
    "---"
   ]
  },
  {
   "cell_type": "markdown",
   "id": "1eff9c2d-0fd4-45a9-a9fb-612b61fcfe2b",
   "metadata": {},
   "source": [
    "### Aufgabe 2: Spezifische Wärmekapazität als Funktion der Temperatur\n",
    "\n",
    "Messen Sie die spezifische Wärmekapazität von Aluminium in Abhängigkeit von der Temperatur in einem Bereich zwischen $100-300\\,\\mathrm{K}$. Kühlen Sie den Aluminium-Hohlzylinder mit flüssigem Stickstoff im Nalgene-Isolierbehälter auf $-196^{\\circ}\\mathrm{C}$ ab. Bereiten Sie den Edelstahl-Isolierbehälter durch Ausschwenken mit flüssigem Stickstoff auf die Aufnahme des kalten Aluminium-Hohlzylinders vor. Heizen Sie dann mit Hilfe der eingebauten Heizwicklung den Aluminium-Hohlzylinder innerhalb des Edelstahl-Isolierbehälters mit konstanter Heizleistung (von $\\approx 20\\,\\mathrm{W}$) wieder auf und zeichnen Sie mit Hilfe des Datenloggers den Temperaturverlauf als Funktion der Zeit auf. \n",
    "\n",
    "Zu diesem Zweck ist ein $\\mathrm{NiCr}$-$\\mathrm{Ni}$-Thermoelement im Aluminium-Hohlzylinder befestigt; mit Hilfe von Eiswasser können Sie dem Thermoelement eine stabile Referenztemperatur von $0^{\\circ}\\mathrm{C}$ zur Verfügung stellen.\n",
    "\n",
    "Sie können diese Messung schon starten, noch bevor Sie mit Aufgabe 1 beginnen. Sie läuft, abgesehen von gelegentlichen Kontrollen der Heizleistung, automatisch ab. Für die Berücksichtigung der dem Aluminium-Zylinder trotz Wärmeisolation durch die Umgebung zugeführten Wärme benötigen Sie eine zweite, gleichartige Messung, bei der die elektrische Heizung ausgeschaltet bleibt (eine sog. Nullmessung, zur Bestimmung des Wärmegangs). Eine solche Messung dauert $24$ Stunden, sie lässt sich also nicht an einem Versuchstag durchführen. Sie können daher einen entsprechenden Datensatz für Ihre Auswertung im *params*-Verzeichnis Ihres gitlab-Repositories finden, die Sie für Ihre Auswertung verwenden können (Dateiname: [`waermegang.csv`](https://git.scc.kit.edu/etp-lehre/p2-for-students/-/blob/main/Spezifische_Waermekapazitaet/params/waermegang.csv)).\n",
    "\n",
    "---"
   ]
  },
  {
   "cell_type": "markdown",
   "id": "ac7cf06e-3f6e-4b56-a48b-424c1898a2a4",
   "metadata": {},
   "source": [
    "**Lösung:**\n",
    "\n",
    "*Sie können Ihr Protokoll direkt in dieses Dokument einfügen. Wenn Sie dieses Dokument als Grundlage für ein [Jupyter notebook](https://jupyter.org/) verwenden wollen können Sie die Auswertung, Skripte und ggf. bildliche Darstellungen mit Hilfe von [python](https://www.python.org/) ebenfalls hier einfügen. Löschen Sie hierzu diesen kursiv gestellten Text aus dem Dokument.* \n",
    "\n",
    "---"
   ]
  }
 ],
 "metadata": {
  "kernelspec": {
   "display_name": "Python 3 (ipykernel)",
   "language": "python",
   "name": "python3"
  },
  "language_info": {
   "codemirror_mode": {
    "name": "ipython",
    "version": 3
   },
   "file_extension": ".py",
   "mimetype": "text/x-python",
   "name": "python",
   "nbconvert_exporter": "python",
   "pygments_lexer": "ipython3",
   "version": "3.10.10"
  }
 },
 "nbformat": 4,
 "nbformat_minor": 5
}
